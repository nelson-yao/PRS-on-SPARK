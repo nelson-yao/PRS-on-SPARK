{
 "cells": [
  {
   "cell_type": "code",
   "execution_count": 7,
   "metadata": {
    "collapsed": false
   },
   "outputs": [],
   "source": [
    "from __future__ import division\n",
    "from pyspark import SparkConf, SparkContext\n",
    "from operator import add\n",
    "import re\n",
    "import glob, os\n",
    "import csv\n",
    "from collections import Counter\n",
    "import ntpath\n",
    "import functools\n",
    "from functools import reduce\n",
    "from math import log\n",
    "APP_NAME=\"NFP_PRS\"\n",
    "\n",
    "\n",
    "# PRS calculation on pruned NFP data, 50, 5, VIF=2\n",
    "\n",
    "#**ATTN: python index starts at 0, so if you want to specify the second column, use 1\n",
    "#**ATTN: please remove the header of the GWAS file if there is any\n",
    "\n",
    "# define column number for contents in GWAS\n",
    "\n",
    "gwas_id=0    # column of SNP ID\n",
    "gwas_p=7     # column of P value\n",
    "gwas_or=5    # column of odds ratio\n",
    "gwas_a1=3    # column of a1 in the GWAS\n",
    "\n",
    "# defin column number for contents in genfile\n",
    "geno_id=1  # column number with rsID\n",
    "geno_start=5 # column number of the 1st genotype\n",
    "geno_a1 = 3  # column number that contains the reference allele\n",
    "\n",
    "# List of thresholds:\n",
    "thresholds=[0.5, 0.3, 0.2, 0.1, 0.05, 0.01, 0.001, 0.0001]\n",
    "\n",
    "# file delimiters:\n",
    "GWAS_delim=\"\\t\"\n",
    "GENO_delim=\" \"\n",
    "\n",
    "# file names:\n",
    "home=\"/home/nyao111/\"  #define homefolder path\n",
    "gwasFiles=home+\"PRS_imputed/pgc.cross.noheader.txt\"       # Name of GWAS file \n",
    "\n",
    "\n",
    "def getFileFromPattern(*pattern):\n",
    "    files=[]\n",
    "    for pathpattern in pattern:\n",
    "        files=glob.glob(files)\n",
    "\n",
    "genoFileNamePattern=home+\"NFPimputed_pruned.gen\"   # Multiple patterns need to be put into list format\n",
    "\n",
    "genoFileNames=glob.glob(genoFileNamePattern)\n",
    "# Alternatively, directly specify filename:\n",
    "#genoFileName=[home+\"fcgene_out_chr21comb.bierut1M_plus_filtered_chr21_c1_EA_COGA.gen\",\n",
    "              #home+\"fcgene_out_chr21comb.bierut1M_plus_filtered_chr21_c1_EA_COGEND.gen\",\n",
    "              #home+\"fcgene_out_chr22comb.bierut1M_plus_filtered_chr22_c1_EA_COGA.gen\",\n",
    "              #home+\"fcgene_out_chr22comb.bierut1M_plus_filtered_chr22_c1_EA_COGEND.gen\"]\n",
    "\n",
    "genoExtension=\".gen\"\n",
    "\n",
    "\n",
    "# programme parameters\n",
    "log_or=True  # sepcify whether you want to log your odds ratios\n",
    "check_ref=True # if you know that there are mismatch between the top strand in the genotypes and that of the GWAS, set True. Not checking the reference allele will improve the speed\n",
    "\n",
    "# sample file path and name\n",
    "sampleFilePath=\"NFPimputed_pruned.sample\" # include the full/relative path and name of the sample file\n",
    "sampleFileDelim=\" \"  # sample File Delimiter\n",
    "sampleFileID=0   # which column in the sample file has the ID\n",
    "sample_skip=2  # how many lines to skip so that the sample names can be matched to the genotypes 1-to-1\n",
    "##output file information\n",
    "\n",
    "outputPath=home+\"NFP_prs.csv\"\n",
    "\n"
   ]
  },
  {
   "cell_type": "code",
   "execution_count": 34,
   "metadata": {
    "collapsed": false
   },
   "outputs": [
    {
     "ename": "ImportError",
     "evalue": "cannot import name 'calcPRSFromGeno'",
     "output_type": "error",
     "traceback": [
      "\u001b[0;31m---------------------------------------------------------------------------\u001b[0m",
      "\u001b[0;31mImportError\u001b[0m                               Traceback (most recent call last)",
      "\u001b[0;32m<ipython-input-34-9d67d6ed8b80>\u001b[0m in \u001b[0;36m<module>\u001b[0;34m()\u001b[0m\n\u001b[1;32m      1\u001b[0m \u001b[0mget_ipython\u001b[0m\u001b[0;34m(\u001b[0m\u001b[0;34m)\u001b[0m\u001b[0;34m.\u001b[0m\u001b[0mmagic\u001b[0m\u001b[0;34m(\u001b[0m\u001b[0;34m'autoreload 2'\u001b[0m\u001b[0;34m)\u001b[0m\u001b[0;34m\u001b[0m\u001b[0m\n\u001b[0;32m----> 2\u001b[0;31m \u001b[0;32mfrom\u001b[0m \u001b[0mPRSfunctions\u001b[0m \u001b[0;32mimport\u001b[0m \u001b[0mcalcPRSFromGeno\u001b[0m\u001b[0;34m\u001b[0m\u001b[0m\n\u001b[0m",
      "\u001b[0;31mImportError\u001b[0m: cannot import name 'calcPRSFromGeno'"
     ]
    }
   ],
   "source": [
    "%autoreload 2\n",
    "from PRSfunctions import calcPRSFromGeno\n"
   ]
  },
  {
   "cell_type": "code",
   "execution_count": 5,
   "metadata": {
    "collapsed": false
   },
   "outputs": [
    {
     "name": "stdout",
     "output_type": "stream",
     "text": [
      "<pyspark.context.SparkContext object at 0x2ac5206b2208>\n"
     ]
    }
   ],
   "source": [
    "import pyspark\n",
    "from pyspark.sql import SQLContext\n",
    "\n",
    "# We can give a name to our app (to find it in Spark WebUI) and configure execution mode\n",
    "# In this case, it is local multicore execution with \"local[*]\"\n",
    "\n",
    "\n",
    "app_name = \"PRS\"\n",
    "master = \"local\"\n",
    "conf = pyspark.SparkConf().setAppName(app_name).setMaster(master)\n",
    "sc = pyspark.SparkContext(conf=conf)\n",
    "print(sc)"
   ]
  },
  {
   "cell_type": "code",
   "execution_count": 6,
   "metadata": {
    "collapsed": false
   },
   "outputs": [
    {
     "name": "stdout",
     "output_type": "stream",
     "text": [
      "========================================\n",
      "Using these genoytpe files: \n",
      "/home/nyao111/NFPimputed_pruned.gen\n",
      "Using the GWAS file: \n",
      "pgc.cross.noheader.txt\n"
     ]
    }
   ],
   "source": [
    "sc.setLogLevel(\"WARN\")\n",
    "log4jLogger = sc._jvm.org.apache.log4j\n",
    "LOGGER = log4jLogger.LogManager.getLogger(__name__)\n",
    "LOGGER.info(\"Start Reading Files\")\n",
    "#def main(gwasFile, genoFileList, thresholdList):\n",
    "print(\"=\"*40)\n",
    "print(\"Using these genoytpe files: \")\n",
    "\n",
    "counter = 0\n",
    "for filename in genoFileNames:\n",
    "    if counter<20:\n",
    "        counter+=1\n",
    "        print(filename)\n",
    "    else:\n",
    "        print(\"and more....\")\n",
    "        break\n",
    "\n",
    "\n",
    "genodata=sc.textFile(genoFileNamePattern)\n",
    "genotable=genodata.map(lambda line: line.split(GENO_delim))\n",
    "gwasfile=sc.textFile(gwasFiles)\n",
    "print(\"Using the GWAS file: \")\n",
    "print(ntpath.basename(gwasFiles))\n",
    "\n",
    "gwastable=gwasfile.map(lambda line: line.split(GWAS_delim))\n",
    "\n",
    "gwastableCA=gwastable.cache()\n",
    "# Find the maximum threshold\n",
    "# Filter the genotypes to keep only SNPs with p-values less than this threshold\n",
    "# And then cache the filtered genotypes\n",
    "\n",
    "\n",
    "maxThreshold=max(thresholds)"
   ]
  },
  {
   "cell_type": "code",
   "execution_count": 30,
   "metadata": {
    "collapsed": false,
    "scrolled": false
   },
   "outputs": [],
   "source": [
    "#import pickle\n",
    "#NFP_maf=genotable.map(lambda line: getMaf(line))\n",
    "#MAFmap=NFP_maf.collectAsMap()\n",
    "#with open('/scratch/vvp-220-aa/NFP_allele_frequency', 'wb') as handle:\n",
    "    #pickle.dump(MAFmap, handle)"
   ]
  },
  {
   "cell_type": "code",
   "execution_count": 8,
   "metadata": {
    "collapsed": false,
    "scrolled": false
   },
   "outputs": [
    {
     "name": "stdout",
     "output_type": "stream",
     "text": [
      "Taking the log of odds-ratios\n"
     ]
    }
   ],
   "source": [
    "gwasFilteredMax=filterGWASByP(GWASRdd=gwastableCA, pcolumn=gwas_p, idcolumn=gwas_id, oddscolumn=gwas_or, pHigh=maxThreshold, logOdds=log_or)\n",
    "gwasFilteredMaxCA=sc.broadcast(gwasFilteredMax)"
   ]
  },
  {
   "cell_type": "code",
   "execution_count": 9,
   "metadata": {
    "collapsed": false
   },
   "outputs": [],
   "source": [
    "# filter the raw genotype file\n",
    "\n",
    "genoFilteredMax=genotable.filter(lambda line: line[geno_id] in gwasFilteredMax)\n",
    "\n",
    "# make a dictionary for the top strand for each SNP\n",
    "#topStrands=gwastableCA.map(lambda line: (line[gwas_id],line[gwas_a1])).collectAsMap()\n",
    "#topStrandsBC=sc.broadcast(topStrands)\n",
    "\n",
    "if check_ref:\n",
    "    alleleMap=gwasAllelesMap(gwastable)\n",
    "    alleleMapBC=sc.broadcast(alleleMap)\n",
    "    genotypeMaxPre=genoFilteredMax.map(lambda line: makeGenotypeCheckRef(line, strandMap=alleleMapBC.value, bpMap=bpPair))\n",
    "    genotypeMax=genotypeMaxPre.filter(lambda line: line is not None)\n",
    "    genotypeMaxCA=genotypeMax.cache()\n",
    "else:\n",
    "    genotypeMax=genoFilteredMax.map(lambda line: makeGenotype(line, gwasFilteredMaxCA.value))\n",
    "    genotypeMaxCA=genotypeMax.cache()"
   ]
  },
  {
   "cell_type": "code",
   "execution_count": 16,
   "metadata": {
    "collapsed": false
   },
   "outputs": [
    {
     "data": {
      "text/plain": [
       "192"
      ]
     },
     "execution_count": 16,
     "metadata": {},
     "output_type": "execute_result"
    }
   ],
   "source": [
    "len(genotypeMaxCA.first()[1])"
   ]
  },
  {
   "cell_type": "code",
   "execution_count": 10,
   "metadata": {
    "collapsed": false
   },
   "outputs": [
    {
     "data": {
      "text/plain": [
       "164958"
      ]
     },
     "execution_count": 10,
     "metadata": {},
     "output_type": "execute_result"
    }
   ],
   "source": [
    "genoFilteredMax.count()"
   ]
  },
  {
   "cell_type": "code",
   "execution_count": 11,
   "metadata": {
    "collapsed": false
   },
   "outputs": [
    {
     "data": {
      "text/plain": [
       "12682"
      ]
     },
     "execution_count": 11,
     "metadata": {},
     "output_type": "execute_result"
    }
   ],
   "source": [
    "genoAmbi=genoFilteredMax.filter(lambda line: line[geno_a1]==bpPair[line[geno_a1+1]])\n",
    "genoAmbi.count()"
   ]
  },
  {
   "cell_type": "code",
   "execution_count": 13,
   "metadata": {
    "collapsed": true
   },
   "outputs": [],
   "source": [
    "genoNormal=genoFilteredMax.filter(lambda line: line[geno_a1]!=bpPair[line[geno_a1+1]])"
   ]
  },
  {
   "cell_type": "code",
   "execution_count": 22,
   "metadata": {
    "collapsed": false
   },
   "outputs": [],
   "source": [
    "genoNormal.map(lambda line: \"\\t\".join(line)).saveAsTextFile(\"NFP_genfile_p0_5_noambi_plain\")"
   ]
  },
  {
   "cell_type": "code",
   "execution_count": null,
   "metadata": {
    "collapsed": true
   },
   "outputs": [],
   "source": [
    "# Calculate the PRS with the maximum threshold\n",
    "prsMax=calcPRSFromGeno(genotypeMaxCA, gwasFilteredMax)\n",
    "prsDict={}\n",
    "prsDict[maxThreshold]=prsMax\n",
    "\n",
    "# Calculate PRS for the rest of the thresholds"
   ]
  },
  {
   "cell_type": "code",
   "execution_count": null,
   "metadata": {
    "collapsed": false
   },
   "outputs": [],
   "source": [
    "if len(thresholds)>1:\n",
    "    thresholdListNoMax=[x for x in thresholds if x != maxThreshold]\n",
    "\n",
    "for threshold in thresholdListNoMax:\n",
    "    gwasFiltered=filterGWASByP(GWASRdd=gwastableCA, pcolumn=gwas_p, idcolumn=gwas_id, oddscolumn=gwas_or, pHigh=threshold, logOdds=log_or)\n",
    "    gwasFilteredBC=sc.broadcast(gwasFiltered)\n",
    "    genoTypeFiltered=genotypeMaxCA.filter(lambda line: line[0] in gwasFilteredBC.value)\n",
    "    prsOther=calcPRSFromGeno(genoTypeFiltered, gwasFiltered)\n",
    "    prsDict[threshold]=prsOther\n",
    "    print(\"finished calculating PRS at threshold of \"+str(threshold))\n",
    "## putting labels on scores and write scores to file"
   ]
  },
  {
   "cell_type": "code",
   "execution_count": null,
   "metadata": {
    "collapsed": false,
    "scrolled": false
   },
   "outputs": [],
   "source": [
    "subjNames=getSampleNames(scores=prsMax)\n",
    "pvalues, scores=labelPRS(prsDict, subjNames)\n",
    "writePRS(prsTable=scores, outputFile=outputPath, pvalues=pvalues)"
   ]
  },
  {
   "cell_type": "code",
   "execution_count": null,
   "metadata": {
    "collapsed": false
   },
   "outputs": [],
   "source": [
    "outputPath"
   ]
  }
 ],
 "metadata": {
  "kernelspec": {
   "display_name": "Python 3",
   "language": "python",
   "name": "python3"
  },
  "language_info": {
   "codemirror_mode": {
    "name": "ipython",
    "version": 3
   },
   "file_extension": ".py",
   "mimetype": "text/x-python",
   "name": "python",
   "nbconvert_exporter": "python",
   "pygments_lexer": "ipython3",
   "version": "3.5.0"
  }
 },
 "nbformat": 4,
 "nbformat_minor": 0
}
