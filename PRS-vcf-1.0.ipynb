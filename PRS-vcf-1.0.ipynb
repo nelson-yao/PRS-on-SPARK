{
 "cells": [
  {
   "cell_type": "markdown",
   "metadata": {},
   "source": [
    "### Calculating PRS using VCF files\n"
   ]
  },
  {
   "cell_type": "code",
   "execution_count": 3,
   "metadata": {
    "collapsed": false
   },
   "outputs": [],
   "source": [
    "from __future__ import division\n",
    "from pyspark import SparkConf, SparkContext\n",
    "from operator import add\n",
    "import re\n",
    "import glob, os\n",
    "import csv\n",
    "from collections import Counter\n",
    "import ntpath\n",
    "import functools\n",
    "from functools import reduce\n",
    "from math import log\n",
    "import itertools\n",
    "import PRS_VCF_utils\n",
    "APP_NAME=\"MAVANvcfPRS\"\n",
    "\n",
    "\n",
    "# PRS calculation on pruned NFP data, 50, 5, VIF=2\n",
    "\n",
    "#**ATTN: python index starts at 0, so if you want to specify the second column, use 1\n",
    "#**ATTN: please remove the header of the GWAS file if there is any\n",
    "\n",
    "# define column number for contents in GWAS\n",
    "\n",
    "gwas_id=0    # column of SNP ID\n",
    "gwas_p=7     # column of P value\n",
    "gwas_or=5    # column of odds ratio\n",
    "gwas_a1=3    # column of a1 in the GWAS\n",
    "gwas_maf= 10 # column index of maf in the GWAS\n",
    "\n",
    "# defin column number for contents in genfile\n",
    "geno_id=2  # column number with rsID\n",
    "geno_start=9 # column number of the 1st genotype, in the raw vcf files, after separated by the delimiter of choice\n",
    "geno_a1 = 3  # column number that contains the reference allele\n",
    "\n",
    "# List of thresholds:\n",
    "thresholds=[0.5, 0.3, 0.2, 0.1, 0.05, 0.01, 0.001, 0.0001]\n",
    "\n",
    "# file delimiters:\n",
    "GWAS_delim=\"\\t\"\n",
    "GENO_delim=\"\\t\"\n",
    "\n",
    "# file names:\n",
    "home=\"/home/nyao111/MAVAN_imputed_161121/MOMS-vcf-filtered/\"  #define homefolder path\n",
    "\n",
    "gwasFiles=\"/home/nyao111/PRS_imputed/pgc.mdd.clump.withAF.txt\"       # Name of GWAS file \n",
    "\n",
    "\n",
    "def getFileFromPattern(*pattern): # Multiple patterns need to be put into list format\n",
    "    files=[]\n",
    "    for pathpattern in pattern:\n",
    "        files=glob.glob(files)\n",
    "\n",
    "genoFileNamePattern=home+\"*info03_maf01.vcf\"   \n",
    "\n",
    "genoFileNames=glob.glob(genoFileNamePattern)\n",
    "# Alternatively, directly specify filename:\n",
    "#genoFileName=[home+\"fcgene_out_chr21comb.bierut1M_plus_filtered_chr21_c1_EA_COGA.gen\",\n",
    "              #home+\"fcgene_out_chr21comb.bierut1M_plus_filtered_chr21_c1_EA_COGEND.gen\",\n",
    "              #home+\"fcgene_out_chr22comb.bierut1M_plus_filtered_chr22_c1_EA_COGA.gen\",\n",
    "              #home+\"fcgene_out_chr22comb.bierut1M_plus_filtered_chr22_c1_EA_COGEND.gen\"]\n",
    "\n",
    "genoExtension=\".vcf\"\n",
    "\n",
    "\n",
    "# programme parameters\n",
    "log_or=True  # sepcify whether you want to log your odds ratios\n",
    "check_ref=True # if you know that there are mismatch between the top strand in the genotypes and that of the GWAS, set True. Not checking the reference allele will improve the speed\n",
    "\n",
    "# sample file path and name\n",
    "sampleFilePath=\"NFPimputed_pruned.sample\" # include the full/relative path and name of the sample file\n",
    "sampleFileDelim=\" \"  # sample File Delimiter\n",
    "sampleFileID=0   # which column in the sample file has the ID\n",
    "sample_skip=2  # how many lines to skip so that the sample names can be matched to the genotypes 1-to-1\n",
    "##output file information\n",
    "\n",
    "outputPath=home+\"MAVAN_MOMS_mdd.csv\"\n",
    "\n"
   ]
  },
  {
   "cell_type": "code",
   "execution_count": 2,
   "metadata": {
    "collapsed": false
   },
   "outputs": [
    {
     "name": "stdout",
     "output_type": "stream",
     "text": [
      "<pyspark.context.SparkContext object at 0x2ba65237ecd0>\n",
      "========================================\n",
      "Using these genoytpe files: \n",
      "/home/nyao111/MAVAN_imputed_161121/MOMS-vcf-filtered/8_info03_maf01.vcf\n",
      "/home/nyao111/MAVAN_imputed_161121/MOMS-vcf-filtered/17_info03_maf01.vcf\n",
      "/home/nyao111/MAVAN_imputed_161121/MOMS-vcf-filtered/19_info03_maf01.vcf\n",
      "/home/nyao111/MAVAN_imputed_161121/MOMS-vcf-filtered/12_info03_maf01.vcf\n",
      "/home/nyao111/MAVAN_imputed_161121/MOMS-vcf-filtered/21_info03_maf01.vcf\n",
      "/home/nyao111/MAVAN_imputed_161121/MOMS-vcf-filtered/16_info03_maf01.vcf\n",
      "/home/nyao111/MAVAN_imputed_161121/MOMS-vcf-filtered/22_info03_maf01.vcf\n",
      "/home/nyao111/MAVAN_imputed_161121/MOMS-vcf-filtered/15_info03_maf01.vcf\n",
      "/home/nyao111/MAVAN_imputed_161121/MOMS-vcf-filtered/10_info03_maf01.vcf\n",
      "/home/nyao111/MAVAN_imputed_161121/MOMS-vcf-filtered/14_info03_maf01.vcf\n",
      "/home/nyao111/MAVAN_imputed_161121/MOMS-vcf-filtered/18_info03_maf01.vcf\n",
      "/home/nyao111/MAVAN_imputed_161121/MOMS-vcf-filtered/4_info03_maf01.vcf\n",
      "/home/nyao111/MAVAN_imputed_161121/MOMS-vcf-filtered/6_info03_maf01.vcf\n",
      "/home/nyao111/MAVAN_imputed_161121/MOMS-vcf-filtered/2_info03_maf01.vcf\n",
      "/home/nyao111/MAVAN_imputed_161121/MOMS-vcf-filtered/9_info03_maf01.vcf\n",
      "/home/nyao111/MAVAN_imputed_161121/MOMS-vcf-filtered/13_info03_maf01.vcf\n",
      "/home/nyao111/MAVAN_imputed_161121/MOMS-vcf-filtered/3_info03_maf01.vcf\n",
      "/home/nyao111/MAVAN_imputed_161121/MOMS-vcf-filtered/7_info03_maf01.vcf\n",
      "/home/nyao111/MAVAN_imputed_161121/MOMS-vcf-filtered/11_info03_maf01.vcf\n",
      "/home/nyao111/MAVAN_imputed_161121/MOMS-vcf-filtered/20_info03_maf01.vcf\n",
      "and more....\n"
     ]
    }
   ],
   "source": [
    "import pyspark\n",
    "from pyspark.sql import SQLContext\n",
    "\n",
    "# We can give a name to our app (to find it in Spark WebUI) and configure execution mode\n",
    "\n",
    "app_name = \"PRS\"\n",
    "\n",
    "conf = pyspark.SparkConf().setAppName(app_name)\n",
    "sc = pyspark.SparkContext(conf=conf)\n",
    "print(sc)\n",
    "sc.setLogLevel(\"WARN\")\n",
    "log4jLogger = sc._jvm.org.apache.log4j\n",
    "LOGGER = log4jLogger.LogManager.getLogger(__name__)\n",
    "LOGGER.info(\"Start Reading Files\")\n",
    "#def main(gwasFile, genoFileList, thresholdList):\n",
    "print(\"=\"*40)\n",
    "print(\"Using these genoytpe files: \")\n",
    "\n",
    "counter = 0\n",
    "for filename in genoFileNames:\n",
    "    if counter<20:\n",
    "        counter+=1\n",
    "        print(filename)\n",
    "    else:\n",
    "        print(\"and more....\")\n",
    "        break"
   ]
  },
  {
   "cell_type": "markdown",
   "metadata": {},
   "source": [
    "### 1. Load files "
   ]
  },
  {
   "cell_type": "code",
   "execution_count": 4,
   "metadata": {
    "collapsed": false
   },
   "outputs": [
    {
     "name": "stdout",
     "output_type": "stream",
     "text": [
      "Using the GWAS file: pgc.mdd.clump.withAF.txt\n"
     ]
    }
   ],
   "source": [
    "genodata=sc.textFile(genoFileNamePattern)\n",
    "gwasfile=sc.textFile(gwasFiles)\n",
    "print(\"Using the GWAS file: {}\".format(ntpath.basename(gwasFiles)))\n",
    "gwastable=gwasfile.filter(lambda line: \"snpid\" not in line).map(lambda line: line.split(GWAS_delim))\n",
    "gwastableCA=gwastable.cache()\n"
   ]
  },
  {
   "cell_type": "markdown",
   "metadata": {},
   "source": [
    "### 1.1 Filter GWAS and prepare odds ratio\n"
   ]
  },
  {
   "cell_type": "code",
   "execution_count": 5,
   "metadata": {
    "collapsed": false
   },
   "outputs": [
    {
     "name": "stdout",
     "output_type": "stream",
     "text": [
      "Taking the log of odds-ratios\n"
     ]
    }
   ],
   "source": [
    "maxThreshold=max(thresholds)\n",
    "gwasOddsMapMax=PRS_VCF_utils.filterGWASByP(GWASRdd=gwastableCA, pcolumn=gwas_p, idcolumn=gwas_id, oddscolumn=gwas_or, pHigh=maxThreshold, logOdds=log_or)\n",
    "gwasOddsMapMaxCA=sc.broadcast(gwasOddsMapMax).value"
   ]
  },
  {
   "cell_type": "markdown",
   "metadata": {},
   "source": [
    "### 2. Initial processing "
   ]
  },
  {
   "cell_type": "code",
   "execution_count": 8,
   "metadata": {
    "collapsed": false,
    "scrolled": false
   },
   "outputs": [],
   "source": [
    "# at this step, the genotpe is already filtered to keep only the ones in 'gwasOddsMap'\n",
    "genointermediate=genodata.filter(lambda line: (\"#\" not in line))\\\n",
    ".map(lambda line: line.split(GENO_delim))\\\n",
    ".filter(lambda line: line[geno_id] in gwasOddsMapMaxCA)\\\n",
    ".map(lambda line: line[0:5]+[chunk.split(\":\")[3] for chunk in line[geno_start::]])\\\n",
    ".map(lambda line: line[0:5]+[triplet.split(\",\") for triplet in line[5::]])\n",
    "\n",
    "genoAlleles=genointermediate.map(lambda line: (line[geno_id], (line[geno_a1], line[geno_a1+1])))\n",
    "genotable=genointermediate.map(lambda line: (line[geno_id], list(itertools.chain.from_iterable(line[5::]))))\\\n",
    ".mapValues(lambda geno: [float(x) for x in geno])\n"
   ]
  },
  {
   "cell_type": "code",
   "execution_count": 9,
   "metadata": {
    "collapsed": false,
    "scrolled": false
   },
   "outputs": [
    {
     "name": "stdout",
     "output_type": "stream",
     "text": [
      "81009\n"
     ]
    }
   ],
   "source": [
    "print genoAlleles.count()"
   ]
  },
  {
   "cell_type": "markdown",
   "metadata": {},
   "source": [
    "### 2.1 Calculate and store MAF"
   ]
  },
  {
   "cell_type": "code",
   "execution_count": 10,
   "metadata": {
    "collapsed": false,
    "scrolled": false
   },
   "outputs": [
    {
     "data": {
      "text/plain": [
       "(u'rs2240379', (u'G', u'A'), 0.9576415094339623)"
      ]
     },
     "execution_count": 10,
     "metadata": {},
     "output_type": "execute_result"
    }
   ],
   "source": [
    "reload(PRS_VCF_utils)\n",
    "genoa1f=genointermediate.map(lambda line: (line[geno_id], (line[geno_a1], line[geno_a1+1]), [float(x) for x in list(itertools.chain.from_iterable(line[5::]))]))\\\n",
    ".map(lambda line: (line[0], line[1],PRS_VCF_utils.getMaf(line[2])))\n",
    "\n",
    "#genoa1f.map(lambda line:\"\\t\".join([line[0], \"\\t\".join(line[1]), str(line[2])])).saveAsTextFile(\"../MOMS_info03_maf\")\n",
    "genoa1f.first()"
   ]
  },
  {
   "cell_type": "markdown",
   "metadata": {},
   "source": [
    "### 3. Determine whether each SNP needs to be flipped"
   ]
  },
  {
   "cell_type": "code",
   "execution_count": 11,
   "metadata": {
    "collapsed": true
   },
   "outputs": [],
   "source": [
    "checktable=genoa1f.map(lambda line: (line[0], (line[1], line[2])))\\\n",
    ".join(gwastableCA.map(lambda line:(line[gwas_id], ((line[gwas_a1], line[gwas_a1+1]), line[gwas_maf]))))"
   ]
  },
  {
   "cell_type": "code",
   "execution_count": 12,
   "metadata": {
    "collapsed": false
   },
   "outputs": [],
   "source": [
    "\n",
    "reload(PRS_VCF_utils)\n",
    "flagMap=checktable.mapValues(lambda line: PRS_VCF_utils.checkAlignment(line)).collectAsMap()"
   ]
  },
  {
   "cell_type": "code",
   "execution_count": 13,
   "metadata": {
    "collapsed": false
   },
   "outputs": [
    {
     "name": "stdout",
     "output_type": "stream",
     "text": [
      "Calculating genotype dosage while taking into account strand alignment differences\n"
     ]
    }
   ],
   "source": [
    "# filter the raw genotype file\n",
    "reload(PRS_VCF_utils)\n",
    "if check_ref:\n",
    "    print(\"Calculating genotype dosage while taking into account strand alignment differences\")\n",
    "    genotypeMax=genotable.map(lambda line: PRS_VCF_utils.makeGenotypeCheckRef(line, checkMap=flagMap))\n",
    "else:\n",
    "    genotypeMax=genotable.map(lambda line: PRS_VCF_utils.makeGenotype(line, gwasOddsMapCA))"
   ]
  },
  {
   "cell_type": "code",
   "execution_count": 14,
   "metadata": {
    "collapsed": false
   },
   "outputs": [],
   "source": [
    "# Calculate the PRS with the maximum threshold\n",
    "# calculate PRS from genotype\n",
    "reload(PRS_VCF_utils)\n",
    "def calcPRSFromGeno(genotypeRDD, oddsMap):\n",
    "    totalcount=genotypeRDD.count()\n",
    "    multiplied=genotypeRDD.map(lambda line:[call * oddsMap[line[0]] for call in line[1]])\n",
    "    filtered=multiplied.filter(lambda line: line is not None)\n",
    "    PRS=multiplied.reduce(lambda a,b: map(add, a, b))\n",
    "    normalizedPRS=[x/totalcount for x in PRS]\n",
    "    return (totalcount,PRS)\n",
    "\n",
    "prsMax=calcPRSFromGeno(genotypeMax, gwasOddsMapMaxCA)\n",
    "prsDict={}\n",
    "prsDict[maxThreshold]=prsMax\n",
    "# Calculate PRS for the rest of the thresholds"
   ]
  },
  {
   "cell_type": "code",
   "execution_count": 15,
   "metadata": {
    "collapsed": false
   },
   "outputs": [
    {
     "name": "stdout",
     "output_type": "stream",
     "text": [
      "Taking the log of odds-ratios\n",
      "finished calculating PRS at threshold of 0.3\n",
      "Taking the log of odds-ratios\n",
      "finished calculating PRS at threshold of 0.2\n",
      "Taking the log of odds-ratios\n",
      "finished calculating PRS at threshold of 0.1\n",
      "Taking the log of odds-ratios\n",
      "finished calculating PRS at threshold of 0.05\n",
      "Taking the log of odds-ratios\n",
      "finished calculating PRS at threshold of 0.01\n",
      "Taking the log of odds-ratios\n",
      "finished calculating PRS at threshold of 0.001\n",
      "Taking the log of odds-ratios\n",
      "finished calculating PRS at threshold of 0.0001\n"
     ]
    }
   ],
   "source": [
    "def calcNoMax(genotypeRDD, thresholdlist, prsMap):\n",
    "    if len(thresholdlist)>1:\n",
    "        thresholdListNoMax=[x for x in thresholds if x != maxThreshold]\n",
    "        thresholdNoMaxSorted=sorted(thresholdListNoMax, reverse=True)\n",
    "\n",
    "        for threshold in thresholdNoMaxSorted:\n",
    "            gwasFiltered=PRS_VCF_utils.filterGWASByP(GWASRdd=gwastableCA, pcolumn=gwas_p, idcolumn=gwas_id, oddscolumn=gwas_or, pHigh=threshold, logOdds=log_or)\n",
    "            gwasFilteredBC=sc.broadcast(gwasFiltered)\n",
    "            genotypeRDD=genotypeRDD.filter(lambda line: line[0] in gwasFilteredBC.value)\n",
    "            if not genotypeRDD.isEmpty():\n",
    "                prsOther=calcPRSFromGeno(genotypeRDD, gwasFilteredBC.value)\n",
    "                prsMap[threshold]=prsOther\n",
    "                print(\"finished calculating PRS at threshold of \"+str(threshold))\n",
    "        \n",
    "    return prsMap\n",
    "\n",
    "finalresult=calcNoMax(genotypeMax, thresholds, prsDict)"
   ]
  },
  {
   "cell_type": "code",
   "execution_count": 234,
   "metadata": {
    "collapsed": false,
    "scrolled": false
   },
   "outputs": [],
   "source": [
    "subjNames=genodata.filter(lambda line: \"#CHROM\" in line).collect()[0].split(GENO_delim)[-265:]\n",
    "#pvalues, scores=labelPRS(prsDict, subjNames)\n",
    "#writePRS(prsTable=scores, outputFile=outputPath, pvalues=pvalues)"
   ]
  },
  {
   "cell_type": "code",
   "execution_count": 235,
   "metadata": {
    "collapsed": false
   },
   "outputs": [
    {
     "data": {
      "text/plain": [
       "265"
      ]
     },
     "execution_count": 235,
     "metadata": {},
     "output_type": "execute_result"
    }
   ],
   "source": [
    "len(subjNames)"
   ]
  }
 ],
 "metadata": {
  "kernelspec": {
   "display_name": "CQ - Python 2",
   "language": "python",
   "name": "python2"
  },
  "language_info": {
   "codemirror_mode": {
    "name": "ipython",
    "version": 2
   },
   "file_extension": ".py",
   "mimetype": "text/x-python",
   "name": "python",
   "nbconvert_exporter": "python",
   "pygments_lexer": "ipython2",
   "version": "2.7.10"
  }
 },
 "nbformat": 4,
 "nbformat_minor": 0
}
