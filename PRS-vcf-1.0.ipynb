{
 "cells": [
  {
   "cell_type": "markdown",
   "metadata": {},
   "source": [
    "### Calculating PRS using VCF files\n"
   ]
  },
  {
   "cell_type": "code",
   "execution_count": 140,
   "metadata": {
    "collapsed": false
   },
   "outputs": [],
   "source": [
    "from __future__ import division\n",
    "from pyspark import SparkConf, SparkContext\n",
    "from operator import add\n",
    "import re\n",
    "import glob, os\n",
    "import csv\n",
    "from collections import Counter\n",
    "import ntpath\n",
    "import functools\n",
    "from functools import reduce\n",
    "from math import log\n",
    "import itertools\n",
    "APP_NAME=\"NFP_PRS\"\n",
    "\n",
    "\n",
    "# PRS calculation on pruned NFP data, 50, 5, VIF=2\n",
    "\n",
    "#**ATTN: python index starts at 0, so if you want to specify the second column, use 1\n",
    "#**ATTN: please remove the header of the GWAS file if there is any\n",
    "\n",
    "# define column number for contents in GWAS\n",
    "\n",
    "gwas_id=0    # column of SNP ID\n",
    "gwas_p=7     # column of P value\n",
    "gwas_or=5    # column of odds ratio\n",
    "gwas_a1=3    # column of a1 in the GWAS\n",
    "gwas_maf= 10 # column index of maf in the GWAS\n",
    "\n",
    "# defin column number for contents in genfile\n",
    "geno_id=2  # column number with rsID\n",
    "geno_start=9 # column number of the 1st genotype, in the raw vcf files, after separated by the delimiter of choice\n",
    "geno_a1 = 3  # column number that contains the reference allele\n",
    "\n",
    "# List of thresholds:\n",
    "thresholds=[0.5, 0.3, 0.2, 0.1, 0.05, 0.01, 0.001, 0.0001]\n",
    "\n",
    "# file delimiters:\n",
    "GWAS_delim=\"\\t\"\n",
    "GENO_delim=\"\\t\"\n",
    "\n",
    "# file names:\n",
    "home=\"/home/nyao111/MAVAN_imputed_161121/MOMS-vcf-filtered/\"  #define homefolder path\n",
    "\n",
    "gwasFiles=\"/home/nyao111/PRS_imputed/pgc.mdd.clump.withAF.txt\"       # Name of GWAS file \n",
    "\n",
    "\n",
    "def getFileFromPattern(*pattern): # Multiple patterns need to be put into list format\n",
    "    files=[]\n",
    "    for pathpattern in pattern:\n",
    "        files=glob.glob(files)\n",
    "\n",
    "genoFileNamePattern=home+\"20_info03_maf01.vcf\"   \n",
    "\n",
    "genoFileNames=glob.glob(genoFileNamePattern)\n",
    "# Alternatively, directly specify filename:\n",
    "#genoFileName=[home+\"fcgene_out_chr21comb.bierut1M_plus_filtered_chr21_c1_EA_COGA.gen\",\n",
    "              #home+\"fcgene_out_chr21comb.bierut1M_plus_filtered_chr21_c1_EA_COGEND.gen\",\n",
    "              #home+\"fcgene_out_chr22comb.bierut1M_plus_filtered_chr22_c1_EA_COGA.gen\",\n",
    "              #home+\"fcgene_out_chr22comb.bierut1M_plus_filtered_chr22_c1_EA_COGEND.gen\"]\n",
    "\n",
    "genoExtension=\".vcf\"\n",
    "\n",
    "\n",
    "# programme parameters\n",
    "log_or=True  # sepcify whether you want to log your odds ratios\n",
    "check_ref=True # if you know that there are mismatch between the top strand in the genotypes and that of the GWAS, set True. Not checking the reference allele will improve the speed\n",
    "\n",
    "# sample file path and name\n",
    "sampleFilePath=\"NFPimputed_pruned.sample\" # include the full/relative path and name of the sample file\n",
    "sampleFileDelim=\" \"  # sample File Delimiter\n",
    "sampleFileID=0   # which column in the sample file has the ID\n",
    "sample_skip=2  # how many lines to skip so that the sample names can be matched to the genotypes 1-to-1\n",
    "##output file information\n",
    "\n",
    "outputPath=home+\"MAVAN_MOMS_mdd.csv\"\n",
    "\n"
   ]
  },
  {
   "cell_type": "code",
   "execution_count": 4,
   "metadata": {
    "collapsed": false
   },
   "outputs": [
    {
     "name": "stdout",
     "output_type": "stream",
     "text": [
      "<pyspark.context.SparkContext object at 0x2b9b0b396ed0>\n"
     ]
    }
   ],
   "source": [
    "import pyspark\n",
    "from pyspark.sql import SQLContext\n",
    "\n",
    "# We can give a name to our app (to find it in Spark WebUI) and configure execution mode\n",
    "\n",
    "app_name = \"PRS\"\n",
    "\n",
    "conf = pyspark.SparkConf().setAppName(app_name)\n",
    "sc = pyspark.SparkContext(conf=conf)\n",
    "print(sc)\n",
    "sc.setLogLevel(\"WARN\")\n",
    "log4jLogger = sc._jvm.org.apache.log4j\n",
    "LOGGER = log4jLogger.LogManager.getLogger(__name__)\n",
    "LOGGER.info(\"Start Reading Files\")\n",
    "#def main(gwasFile, genoFileList, thresholdList):\n",
    "print(\"=\"*40)\n",
    "print(\"Using these genoytpe files: \")\n",
    "\n",
    "counter = 0\n",
    "for filename in genoFileNames:\n",
    "    if counter<20:\n",
    "        counter+=1\n",
    "        print(filename)\n",
    "    else:\n",
    "        print(\"and more....\")\n",
    "        break"
   ]
  },
  {
   "cell_type": "code",
   "execution_count": 78,
   "metadata": {
    "collapsed": false
   },
   "outputs": [],
   "source": [
    "import PRS_VCF_utils"
   ]
  },
  {
   "cell_type": "markdown",
   "metadata": {},
   "source": [
    "### 1. Load files "
   ]
  },
  {
   "cell_type": "code",
   "execution_count": 141,
   "metadata": {
    "collapsed": false
   },
   "outputs": [
    {
     "name": "stdout",
     "output_type": "stream",
     "text": [
      "Using the GWAS file: pgc.mdd.clump.withAF.txt\n"
     ]
    }
   ],
   "source": [
    "genodata=sc.textFile(genoFileNamePattern)\n",
    "gwasfile=sc.textFile(gwasFiles)\n",
    "print(\"Using the GWAS file: {}\".format(ntpath.basename(gwasFiles)))\n",
    "gwastable=gwasfile.filter(lambda line: \"snpid\" not in line).map(lambda line: line.split(GWAS_delim))\n",
    "gwastableCA=gwastable.cache()\n"
   ]
  },
  {
   "cell_type": "markdown",
   "metadata": {},
   "source": [
    "### 2. Initial processing "
   ]
  },
  {
   "cell_type": "code",
   "execution_count": 142,
   "metadata": {
    "collapsed": false,
    "scrolled": false
   },
   "outputs": [],
   "source": [
    "genointermediate=genodata.filter(lambda line: (\"#\" not in line))\\\n",
    ".map(lambda line: line.split(GENO_delim))\\\n",
    ".map(lambda line: line[0:5]+[chunk.split(\":\")[3] for chunk in line[geno_start::]])\\\n",
    ".map(lambda line: line[0:5]+[triplet.split(\",\") for triplet in line[5::]])\n",
    "\n",
    "genoAlleles=genointermediate.map(lambda line: (line[geno_id], (line[geno_a1], line[geno_a1+1])))\n",
    "genotable=genointermediate.map(lambda line: (line[geno_id], list(itertools.chain.from_iterable(line[5::]))))\\\n",
    ".mapValues(lambda geno: [float(x) for x in geno])\n"
   ]
  },
  {
   "cell_type": "code",
   "execution_count": 125,
   "metadata": {
    "collapsed": false
   },
   "outputs": [
    {
     "name": "stdout",
     "output_type": "stream",
     "text": [
      "179304\n",
      "179304\n"
     ]
    }
   ],
   "source": [
    "print genoAlleles.count()\n",
    "print genotable.mapValues(lambda line: PRS_VCF_utils.getMaf(line)).count()"
   ]
  },
  {
   "cell_type": "markdown",
   "metadata": {},
   "source": [
    "### 2.1 Calculate and store MAF"
   ]
  },
  {
   "cell_type": "code",
   "execution_count": 157,
   "metadata": {
    "collapsed": false,
    "scrolled": false
   },
   "outputs": [],
   "source": [
    "reload(PRS_VCF_utils)\n",
    "genoa1f=genointermediate.map(lambda line: (line[geno_id], (line[geno_a1], line[geno_a1+1]), [float(x) for x in list(itertools.chain.from_iterable(line[5::]))]))\\\n",
    ".map(lambda line: (line[0], line[1],PRS_VCF_utils.getMaf(line[2])))\n",
    "\n",
    "#genoa1f.map(lambda line:\"\\t\".join([line[0], \"\\t\".join(line[1]), str(line[2])])).saveAsTextFile(\"../MOMS_info03_maf\")\n"
   ]
  },
  {
   "cell_type": "code",
   "execution_count": 152,
   "metadata": {
    "collapsed": false
   },
   "outputs": [
    {
     "data": {
      "text/plain": [
       "(u'rs6078030', (u'C', u'T'), 0.7741509433962265)"
      ]
     },
     "execution_count": 152,
     "metadata": {},
     "output_type": "execute_result"
    }
   ],
   "source": [
    "momsa1f.first()"
   ]
  },
  {
   "cell_type": "markdown",
   "metadata": {},
   "source": [
    "### 3. Filter and prepare odds-ratio from GWAS"
   ]
  },
  {
   "cell_type": "code",
   "execution_count": 143,
   "metadata": {
    "collapsed": false,
    "scrolled": false
   },
   "outputs": [
    {
     "name": "stdout",
     "output_type": "stream",
     "text": [
      "Taking the log of odds-ratios\n"
     ]
    }
   ],
   "source": [
    "# Find the maximum threshold\n",
    "# Filter the genotypes to keep only SNPs with p-values less than this threshold\n",
    "# And then cache the filtered genotypes\n",
    "reload(PRS_VCF_utils)\n",
    "maxThreshold=max(thresholds)\n",
    "gwasOddsMap=PRS_VCF_utils.filterGWASByP(GWASRdd=gwastableCA, pcolumn=gwas_p, idcolumn=gwas_id, oddscolumn=gwas_or, pHigh=maxThreshold, logOdds=log_or)\n",
    "gwasOddsMapCA=sc.broadcast(gwasOddsMap)"
   ]
  },
  {
   "cell_type": "markdown",
   "metadata": {},
   "source": [
    "### 4. Determine whether each SNP has the correct strand allignment"
   ]
  },
  {
   "cell_type": "code",
   "execution_count": 163,
   "metadata": {
    "collapsed": true
   },
   "outputs": [],
   "source": [
    "checktable=genoa1f.map(lambda line: (line[0], (line[1], line[2])))\\\n",
    ".join(gwastableCA.map(lambda line:(line[gwas_id], ((line[gwas_a1], line[gwas_a1+1]), line[gwas_maf]))))"
   ]
  },
  {
   "cell_type": "code",
   "execution_count": 164,
   "metadata": {
    "collapsed": false
   },
   "outputs": [
    {
     "data": {
      "text/plain": [
       "(u'rs17544336',\n",
       " (((u'G', u'A'), 0.9229245283018864), ((u'A', u'G'), u'0.059633')))"
      ]
     },
     "execution_count": 164,
     "metadata": {},
     "output_type": "execute_result"
    }
   ],
   "source": [
    "checktable.first()"
   ]
  },
  {
   "cell_type": "code",
   "execution_count": 160,
   "metadata": {
    "collapsed": true
   },
   "outputs": [],
   "source": [
    "def checkAlignment(line):\n",
    "    bpMap={\"A\":\"T\", \"T\":\"A\", \"C\":\"G\", \"G\":\"C\"}\n",
    "    genoA1=line[0][0][0]\n",
    "    genoA2=line[0][0][1]\n",
    "    genoA1F=line[0][1]\n",
    "    gwasA1=line[1][0][0]\n",
    "    gwasA2=line[1][0][1]\n",
    "    gwasA1F=line[1][1]\n",
    "    flag=\"keep\"\n",
    "    try:\n",
    "        if genoA1==bpMap[genoA1]:\n",
    "            if gwasA1F==\".\":\n",
    "                flag=\"discard\"\n",
    "            else:\n",
    "                gwasA1F=float(gwasA1F)\n",
    "                genoA1Fdiff=genoA1F-0.5\n",
    "                gwasA1Fdiff=gwasA1F-0.5\n",
    "                \n",
    "                if abs()<0.1 or abs(gwasA1F-0.5)<0.1:\n",
    "                    flag=\"discard\"\n",
    "                else:\n",
    "                    if (genoA1F-0.5\n"
   ]
  },
  {
   "cell_type": "code",
   "execution_count": 9,
   "metadata": {
    "collapsed": false
   },
   "outputs": [],
   "source": [
    "# filter the raw genotype file\n",
    "\n",
    "genoFilteredMax=genotable.filter(lambda line: line[geno_id] in gwasFilteredMax)\n",
    "\n",
    "# make a dictionary for the top strand for each SNP\n",
    "#topStrands=gwastableCA.map(lambda line: (line[gwas_id],line[gwas_a1])).collectAsMap()\n",
    "#topStrandsBC=sc.broadcast(topStrands)\n",
    "\n",
    "if check_ref:\n",
    "    alleleMap=gwasAllelesMap(gwastable)\n",
    "    alleleMapBC=sc.broadcast(alleleMap)\n",
    "    genotypeMaxPre=genoFilteredMax.map(lambda line: makeGenotypeCheckRef(line, strandMap=alleleMapBC.value, bpMap=bpPair))\n",
    "    genotypeMax=genotypeMaxPre.filter(lambda line: line is not None)\n",
    "    genotypeMaxCA=genotypeMax.cache()\n",
    "else:\n",
    "    genotypeMax=genoFilteredMax.map(lambda line: makeGenotype(line, gwasFilteredMaxCA.value))\n",
    "    genotypeMaxCA=genotypeMax.cache()"
   ]
  },
  {
   "cell_type": "code",
   "execution_count": 16,
   "metadata": {
    "collapsed": false
   },
   "outputs": [
    {
     "data": {
      "text/plain": [
       "192"
      ]
     },
     "execution_count": 16,
     "metadata": {},
     "output_type": "execute_result"
    }
   ],
   "source": [
    "len(genotypeMaxCA.first()[1])"
   ]
  },
  {
   "cell_type": "code",
   "execution_count": 10,
   "metadata": {
    "collapsed": false
   },
   "outputs": [
    {
     "data": {
      "text/plain": [
       "164958"
      ]
     },
     "execution_count": 10,
     "metadata": {},
     "output_type": "execute_result"
    }
   ],
   "source": [
    "genoFilteredMax.count()"
   ]
  },
  {
   "cell_type": "code",
   "execution_count": 11,
   "metadata": {
    "collapsed": false
   },
   "outputs": [
    {
     "data": {
      "text/plain": [
       "12682"
      ]
     },
     "execution_count": 11,
     "metadata": {},
     "output_type": "execute_result"
    }
   ],
   "source": [
    "genoAmbi=genoFilteredMax.filter(lambda line: line[geno_a1]==bpPair[line[geno_a1+1]])\n",
    "genoAmbi.count()"
   ]
  },
  {
   "cell_type": "code",
   "execution_count": 13,
   "metadata": {
    "collapsed": true
   },
   "outputs": [],
   "source": [
    "genoNormal=genoFilteredMax.filter(lambda line: line[geno_a1]!=bpPair[line[geno_a1+1]])"
   ]
  },
  {
   "cell_type": "code",
   "execution_count": 22,
   "metadata": {
    "collapsed": false
   },
   "outputs": [],
   "source": [
    "genoNormal.map(lambda line: \"\\t\".join(line)).saveAsTextFile(\"NFP_genfile_p0_5_noambi_plain\")"
   ]
  },
  {
   "cell_type": "code",
   "execution_count": null,
   "metadata": {
    "collapsed": true
   },
   "outputs": [],
   "source": [
    "# Calculate the PRS with the maximum threshold\n",
    "prsMax=calcPRSFromGeno(genotypeMaxCA, gwasFilteredMax)\n",
    "prsDict={}\n",
    "prsDict[maxThreshold]=prsMax\n",
    "\n",
    "# Calculate PRS for the rest of the thresholds"
   ]
  },
  {
   "cell_type": "code",
   "execution_count": null,
   "metadata": {
    "collapsed": false
   },
   "outputs": [],
   "source": [
    "if len(thresholds)>1:\n",
    "    thresholdListNoMax=[x for x in thresholds if x != maxThreshold]\n",
    "\n",
    "for threshold in thresholdListNoMax:\n",
    "    gwasFiltered=filterGWASByP(GWASRdd=gwastableCA, pcolumn=gwas_p, idcolumn=gwas_id, oddscolumn=gwas_or, pHigh=threshold, logOdds=log_or)\n",
    "    gwasFilteredBC=sc.broadcast(gwasFiltered)\n",
    "    genoTypeFiltered=genotypeMaxCA.filter(lambda line: line[0] in gwasFilteredBC.value)\n",
    "    prsOther=calcPRSFromGeno(genoTypeFiltered, gwasFiltered)\n",
    "    prsDict[threshold]=prsOther\n",
    "    print(\"finished calculating PRS at threshold of \"+str(threshold))\n",
    "## putting labels on scores and write scores to file"
   ]
  },
  {
   "cell_type": "code",
   "execution_count": null,
   "metadata": {
    "collapsed": false,
    "scrolled": false
   },
   "outputs": [],
   "source": [
    "subjNames=getSampleNames(scores=prsMax)\n",
    "pvalues, scores=labelPRS(prsDict, subjNames)\n",
    "writePRS(prsTable=scores, outputFile=outputPath, pvalues=pvalues)"
   ]
  },
  {
   "cell_type": "code",
   "execution_count": null,
   "metadata": {
    "collapsed": false
   },
   "outputs": [],
   "source": [
    "outputPath"
   ]
  }
 ],
 "metadata": {
  "kernelspec": {
   "display_name": "CQ - Python 2",
   "language": "python",
   "name": "python2"
  },
  "language_info": {
   "codemirror_mode": {
    "name": "ipython",
    "version": 2
   },
   "file_extension": ".py",
   "mimetype": "text/x-python",
   "name": "python",
   "nbconvert_exporter": "python",
   "pygments_lexer": "ipython2",
   "version": "2.7.10"
  }
 },
 "nbformat": 4,
 "nbformat_minor": 0
}
