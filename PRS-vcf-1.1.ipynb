{
 "cells": [
  {
   "cell_type": "markdown",
   "metadata": {},
   "source": [
    "### Calculating PRS using VCF files\n"
   ]
  },
  {
   "cell_type": "code",
   "execution_count": 60,
   "metadata": {
    "collapsed": false
   },
   "outputs": [
    {
     "data": {
      "text/html": [
       "<style>.container { width:100% !important; }</style>"
      ],
      "text/plain": [
       "<IPython.core.display.HTML object>"
      ]
     },
     "metadata": {},
     "output_type": "display_data"
    }
   ],
   "source": [
    "# making the notebok wider\n",
    "from IPython.core.display import display, HTML\n",
    "display(HTML(\"<style>.container { width:100% !important; }</style>\"))"
   ]
  },
  {
   "cell_type": "code",
   "execution_count": 56,
   "metadata": {
    "collapsed": false
   },
   "outputs": [
    {
     "name": "stdout",
     "output_type": "stream",
     "text": [
      "<pyspark.sql.session.SparkSession object at 0x2b22fd57f390>\n",
      "<pyspark.context.SparkContext object at 0x2b23097cfe90>\n"
     ]
    }
   ],
   "source": [
    "\n",
    "\n",
    "# We can give a name to our app (to find it in Spark WebUI) and configure execution mode\n",
    "\n",
    "APP_NAME=\"MAVANvcfPRS\"\n",
    "spark=SparkSession.builder.appName(APP_NAME).config(\"spark.ui.port\", \"4040\").getOrCreate()\n",
    "#conf = pyspark.SparkConf().setAppName(APP_NAME).set()#.set(\"spark.serializer\", \"org.apache.spark.serializer.KryoSerializer\")\n",
    "sc = spark.sparkContext\n",
    "\n",
    "sc.setLogLevel(\"WARN\")\n",
    "log4jLogger = sc._jvm.org.apache.log4j\n",
    "LOGGER = log4jLogger.LogManager.getLogger(__name__)\n",
    "LOGGER.info(\"Start Reading Files\")\n",
    "#def main(gwasFile, genoFileList, thresholdList):\n",
    "\n",
    "print(spark)\n",
    "print(sc)"
   ]
  },
  {
   "cell_type": "code",
   "execution_count": 88,
   "metadata": {
    "collapsed": false
   },
   "outputs": [],
   "source": [
    "from __future__ import division\n",
    "from pyspark import SparkConf, SparkContext\n",
    "from operator import add\n",
    "import re\n",
    "import glob, os\n",
    "import csv\n",
    "from collections import Counter\n",
    "import ntpath\n",
    "import functools\n",
    "#from functools import reduce\n",
    "from math import log\n",
    "import itertools\n",
    "import PRS_VCF_utils\n",
    "from time import time\n",
    "\n",
    "import pyspark \n",
    "from pyspark.sql import SparkSession\n",
    "from pyspark.sql import Row\n",
    "from pyspark.sql.functions import udf\n",
    "from pyspark.sql.types import *\n",
    "\n",
    "#**ATTN: python index starts at 0, so if you want to specify the second column, use 1\n",
    "#**ATTN: please remove the header of the GWAS file if there is any\n",
    "\n",
    "# define column number for contents in GWAS\n",
    "\n",
    "gwas_id=0    # column of SNP ID\n",
    "gwas_p=8     # column of P value\n",
    "gwas_or=5    # column of odds ratio\n",
    "gwas_a1=3    # column of a1 in the GWAS\n",
    "gwas_maf= 4 # column index of maf in the GWAS\n",
    "\n",
    "# defin column number for contents in genfile\n",
    "geno_id=2  # column number with rsID\n",
    "geno_start=9 # column number of the 1st genotype, in the raw vcf files, after separated by the delimiter of choice\n",
    "geno_a1 = 3  # column number that contains the reference allele\n",
    "\n",
    "# List of thresholds:\n",
    "thresholds=[0.5]\n",
    "\n",
    "# file delimiters:\n",
    "GWAS_delim=\"\\t\"\n",
    "GENO_delim=\"\\t\"\n",
    "\n",
    "# file names:\n",
    "home=\"/scratch/vvp-220-aa/KIDS_03info/\"  #define homefolder path\n",
    "\n",
    "#gwasFiles=\"/home/nyao111/PRS_imputed/pgc.mdd.clump.withAF.txt\"       # Name of GWAS file \n",
    "gwasFiles=\"/home/nyao111/scratchbackup/GWAS-EWB-noheader-corrected-2.txt\"\n",
    "\n",
    "\n",
    "def getFileFromPattern(*pattern): # Multiple patterns need to be put into list format\n",
    "    files=[]\n",
    "    for pathpattern in pattern:\n",
    "        files=glob.glob(files)\n",
    "\n",
    "genoFileNamePattern=home+\"*info03.vcf\"   \n",
    "\n",
    "genoFileNames=glob.glob(genoFileNamePattern)\n",
    "# Alternatively, directly specify filename:\n",
    "#genoFileName=[home+\"fcgene_out_chr21comb.bierut1M_plus_filtered_chr21_c1_EA_COGA.gen\",\n",
    "              #home+\"fcgene_out_chr21comb.bierut1M_plus_filtered_chr21_c1_EA_COGEND.gen\",\n",
    "              #home+\"fcgene_out_chr22comb.bierut1M_plus_filtered_chr22_c1_EA_COGA.gen\",\n",
    "              #home+\"fcgene_out_chr22comb.bierut1M_plus_filtered_chr22_c1_EA_COGEND.gen\"]\n",
    "\n",
    "genoExtension=\".vcf\"\n",
    "\n",
    "\n",
    "# programme parameters\n",
    "log_or=False  # sepcify whether you want to log your odds ratios\n",
    "check_ref=True # if you know that there are mismatch between the top strand in the genotypes and that of the GWAS, set True. Not checking the reference allele will improve the speed\n",
    "\n",
    "# sample file path and name\n",
    "sampleFilePath=home+\"MAVAN_35_impute161121_KIDS_orderedSamples.csv\" # include the full/relative path and name of the sample file\n",
    "sampleFileDelim=\",\"  # sample File Delimiter\n",
    "sampleFileID=0   # which column in the sample file has the ID\n",
    "sample_skip=1  # how many lines to skip so that the sample names can be matched to the genotypes 1-to-1, taking into account the header of the sample file \n",
    "##output file information\n",
    "\n",
    "outputPath=home+\"MAVAN_KIDS_EWBPRS_161129.csv\"\n",
    "\n"
   ]
  },
  {
   "cell_type": "code",
   "execution_count": 19,
   "metadata": {
    "collapsed": false
   },
   "outputs": [
    {
     "name": "stdout",
     "output_type": "stream",
     "text": [
      "========================================\n",
      "Using these genoytpe files: \n",
      "/scratch/vvp-220-aa/KIDS_03info/KIDS10_info03.vcf\n",
      "/scratch/vvp-220-aa/KIDS_03info/KIDS21_info03.vcf\n",
      "/scratch/vvp-220-aa/KIDS_03info/KIDS22_info03.vcf\n",
      "/scratch/vvp-220-aa/KIDS_03info/KIDS6_info03.vcf\n",
      "/scratch/vvp-220-aa/KIDS_03info/KIDS4_info03.vcf\n",
      "/scratch/vvp-220-aa/KIDS_03info/KIDS8_info03.vcf\n",
      "/scratch/vvp-220-aa/KIDS_03info/KIDS17_info03.vcf\n",
      "/scratch/vvp-220-aa/KIDS_03info/KIDS12_info03.vcf\n",
      "/scratch/vvp-220-aa/KIDS_03info/KIDS11_info03.vcf\n",
      "/scratch/vvp-220-aa/KIDS_03info/KIDS19_info03.vcf\n",
      "/scratch/vvp-220-aa/KIDS_03info/KIDS14_info03.vcf\n",
      "/scratch/vvp-220-aa/KIDS_03info/KIDS5_info03.vcf\n",
      "/scratch/vvp-220-aa/KIDS_03info/KIDS7_info03.vcf\n",
      "/scratch/vvp-220-aa/KIDS_03info/KIDS15_info03.vcf\n",
      "/scratch/vvp-220-aa/KIDS_03info/KIDS16_info03.vcf\n",
      "/scratch/vvp-220-aa/KIDS_03info/KIDS20_info03.vcf\n",
      "/scratch/vvp-220-aa/KIDS_03info/KIDS3_info03.vcf\n",
      "/scratch/vvp-220-aa/KIDS_03info/KIDS2_info03.vcf\n",
      "/scratch/vvp-220-aa/KIDS_03info/KIDS9_info03.vcf\n",
      "/scratch/vvp-220-aa/KIDS_03info/KIDS18_info03.vcf\n",
      "and more...\n",
      "total of 22 files\n"
     ]
    }
   ],
   "source": [
    "print(\"=\"*40)\n",
    "print(\"Using these genoytpe files: \")\n",
    "\n",
    "counter = 0\n",
    "for filename in genoFileNames:\n",
    "    if counter<20:\n",
    "        counter+=1\n",
    "        print(filename)\n",
    "    else:\n",
    "        print(\"and more...\")\n",
    "        print(\"total of {} files\".format(str(len(genoFileNames))))\n",
    "        break"
   ]
  },
  {
   "cell_type": "markdown",
   "metadata": {},
   "source": [
    "### 1. Load files "
   ]
  },
  {
   "cell_type": "code",
   "execution_count": 36,
   "metadata": {
    "collapsed": false
   },
   "outputs": [
    {
     "name": "stdout",
     "output_type": "stream",
     "text": [
      "Using the GWAS file: GWAS-EWB-noheader-corrected-2.txt\n",
      "+-----------+---+-----------+---+-----+-------+------+------+--------+------------+\n",
      "|      SNPID|CHR|         BP| EA|  EAF|   Beta|    SE|    R2|p-value |N,Quasi-Repl|\n",
      "+-----------+---+-----------+---+-----+-------+------+------+--------+------------+\n",
      "|  rs3756290|  5|130,951,750|  A| 0.24|-0.0177|0.0031|0.011%|9.55E-09|     286,851|\n",
      "|  rs2075677| 20| 47,701,024|  A| 0.76| 0.0175|0.0031|0.011%|1.49E-08|     288,454|\n",
      "|  rs4958581|  5|152,187,729|  T| 0.66| 0.0153|0.0027|0.011%|2.29E-08|     294,043|\n",
      "|  rs2572431|  8| 11,105,077|  T| 0.59| 0.0283|0.0035|0.039%|4.20E-16|     170,908|\n",
      "|rs193236081| 17| 44,142,332|  T| 0.77|-0.0284|0.0043|0.028%|6.26E-11|     151,297|\n",
      "| rs10960103|  9| 11,699,270|  C| 0.77| 0.0264|0.0042|0.024%|2.14E-10|     165,380|\n",
      "|  rs4938021| 11|113,364,803|  T| 0.66| 0.0233|0.0037|0.024%|4.03E-10|     159,900|\n",
      "|rs139237746| 11| 10,253,183|  T| 0.51|-0.0204|0.0034|0.021%|2.55E-09|     170,908|\n",
      "|  rs1557341| 18| 35,127,427|  A| 0.34| 0.0213|0.0037|0.021%|5.58E-09|     165,579|\n",
      "| rs12938775| 17|  2,574,821|  A| 0.53|-0.0202|0.0035|0.020%|8.54E-09|     163,283|\n",
      "| rs12961969| 18| 35,364,098|  A| 0.20| 0.0250|0.0045|0.020%|2.16E-08|     156,758|\n",
      "| rs35688236|  3| 34,582,993|  A| 0.69| 0.0213|0.0038|0.019%|2.35E-08|     161,636|\n",
      "|  rs2150462|  9| 23,316,330|  C| 0.74|-0.0217|0.0039|0.018%|2.66E-08|     170,907|\n",
      "| rs12903563| 15| 78,033,735|  T| 0.50| 0.0198|0.0036|0.020%|2.86E-08|     157,562|\n",
      "|  rs7973260| 12|118,375,486|  A| 0.19| 0.0306|0.0051|0.029%|1.78E-09|     124,498|\n",
      "| rs62100776| 18| 50,754,633|  A| 0.56|-0.0252|0.0044|0.031%|8.45E-09|     105,739|\n",
      "|  rs4346787|  6| 27,491,299|  A|0.113|  0.023|0.0059|0.011%|9.79E-05|      0.0160|\n",
      "|  rs4481363|  5|164,483,794|  A|0.524| -0.014|0.0038|0.009%|3.06E-04|      0.0499|\n",
      "| rs10838738| 11| 47,663,049|  A| 0.49|-0.0178|0.0039|0.016%|5.03E-06|      0.0009|\n",
      "| rs10774909| 12|117,674,129|  C| 0.52| 0.0150|0.0039|0.011%|1.20E-04|      0.0203|\n",
      "+-----------+---+-----------+---+-----+-------+------+------+--------+------------+\n",
      "only showing top 20 rows\n",
      "\n"
     ]
    }
   ],
   "source": [
    "genodata=sc.textFile(genoFileNamePattern)\n",
    "gwasfile=sc.textFile(gwasFiles)\n",
    "print(\"Using the GWAS file: {}\".format(ntpath.basename(gwasFiles)))\n",
    "#gwastable=gwasfile.filter(lambda line: \"snpid\" not in line).map(lambda line: line.split(GWAS_delim))\n",
    "gwastable=spark.read.option(\"header\", \"true\").option(\"delimiter\",GWAS_delim).csv(gwasFiles)\n",
    "gwastable.show()\n",
    "gwastableCA=gwastable.cache()\n"
   ]
  },
  {
   "cell_type": "markdown",
   "metadata": {},
   "source": [
    "### 1.1 Filter GWAS and prepare odds ratio\n"
   ]
  },
  {
   "cell_type": "code",
   "execution_count": 37,
   "metadata": {
    "collapsed": false,
    "scrolled": false
   },
   "outputs": [
    {
     "name": "stdout",
     "output_type": "stream",
     "text": [
      "Using the original values of effect sizes\n"
     ]
    }
   ],
   "source": [
    "reload(PRS_VCF_utils)\n",
    "maxThreshold=max(thresholds)\n",
    "gwasOddsMapMax=PRS_VCF_utils.filterGWASByP_DF(GWASdf=gwastableCA, pcolumn=gwas_p, idcolumn=gwas_id, oddscolumn=gwas_or, pHigh=maxThreshold, logOdds=log_or)\n",
    "gwasOddsMapMaxCA=sc.broadcast(gwasOddsMapMax).value"
   ]
  },
  {
   "cell_type": "markdown",
   "metadata": {},
   "source": [
    "### 2. Initial processing "
   ]
  },
  {
   "cell_type": "code",
   "execution_count": 39,
   "metadata": {
    "collapsed": false,
    "scrolled": false
   },
   "outputs": [],
   "source": [
    "# at this step, the genotypes are already filtered to keep only the ones in 'gwasOddsMap'\n",
    "genointermediate=genodata.filter(lambda line: (\"#\" not in line))\\\n",
    ".map(lambda line: line.split(GENO_delim))\\\n",
    ".filter(lambda line: line[geno_id] in gwasOddsMapMaxCA)\\\n",
    ".map(lambda line: line[0:5]+[chunk.split(\":\")[3] for chunk in line[geno_start::]])\\\n",
    ".map(lambda line: line[0:5]+[triplet.split(\",\") for triplet in line[5::]])\n",
    "\n",
    "genoAlleles=genointermediate.map(lambda line: (line[geno_id], (line[geno_a1], line[geno_a1+1])))\n",
    "genotable=genointermediate.map(lambda line: (line[geno_id], list(itertools.chain.from_iterable(line[5::]))))\\\n",
    ".mapValues(lambda geno: [float(x) for x in geno])\n"
   ]
  },
  {
   "cell_type": "markdown",
   "metadata": {},
   "source": [
    "### 2.1 Calculate and store MAF"
   ]
  },
  {
   "cell_type": "code",
   "execution_count": 40,
   "metadata": {
    "collapsed": false,
    "scrolled": false
   },
   "outputs": [],
   "source": [
    "reload(PRS_VCF_utils)\n",
    "genoa1f=genointermediate.map(lambda line: (line[geno_id], (line[geno_a1], line[geno_a1+1]), [float(x) for x in list(itertools.chain.from_iterable(line[5::]))]))\\\n",
    ".map(lambda line: (line[0], line[1][0], line[1][1], PRS_VCF_utils.getMaf(line[2]))).toDF([\"Snpid_geno\", \"GenoA1\", \"GenoA2\", \"GenoA1f\"])\n",
    "\n",
    "#genoa1f.map(lambda line:\"\\t\".join([line[0], \"\\t\".join(line[1]), str(line[2])])).saveAsTextFile(\"../MOMS_info03_maf\")\n"
   ]
  },
  {
   "cell_type": "markdown",
   "metadata": {},
   "source": [
    "### 3. Determine whether each SNP needs to be flipped"
   ]
  },
  {
   "cell_type": "code",
   "execution_count": 57,
   "metadata": {
    "collapsed": false
   },
   "outputs": [],
   "source": [
    "gwasA1f=gwastableCA.rdd.map(lambda line:(line[gwas_id], line[gwas_a1], line[gwas_a1+1], line[gwas_maf])).toDF([\"Snpid_gwas\", \"GwasA1\", \"GwasA2\", \"GwasMaf\"])\n",
    "checktable=genoa1f.join(gwasA1f, genoa1f[\"Snpid_geno\"]==gwasA1f[\"Snpid_gwas\"], \"inner\").cache()"
   ]
  },
  {
   "cell_type": "code",
   "execution_count": 64,
   "metadata": {
    "collapsed": false
   },
   "outputs": [
    {
     "name": "stdout",
     "output_type": "stream",
     "text": [
      "+----------+------+------+-------------------+----------+------+------+-------+\n",
      "|Snpid_geno|GenoA1|GenoA2|            GenoA1f|Snpid_gwas|GwasA1|GwasA2|GwasMaf|\n",
      "+----------+------+------+-------------------+----------+------+------+-------+\n",
      "|rs12903563|     T|     C| 0.5111111111111112|rs12903563|     T|  0.50|   0.50|\n",
      "| rs1557341|     A|     C| 0.3672413793103448| rs1557341|     A|  0.34|   0.34|\n",
      "| rs4958581|     T|     C| 0.6749042145593868| rs4958581|     T|  0.66|   0.66|\n",
      "| rs2075677|     A|     G| 0.7739463601532567| rs2075677|     A|  0.76|   0.76|\n",
      "|rs12961969|     A|     C|0.18735632183908044|rs12961969|     A|  0.20|   0.20|\n",
      "|rs10838738|     A|     G| 0.6186781609195402|rs10838738|     A|  0.49|   0.49|\n",
      "| rs3756290|     A|     G| 0.2674329501915708| rs3756290|     A|  0.24|   0.24|\n",
      "| rs4481363|     C|     A|0.49885057471264377| rs4481363|     A| 0.524|  0.524|\n",
      "| rs4481363|     C|     A|0.49885057471264377| rs4481363|     A|  0.49|   0.49|\n",
      "| rs6904596|     G|     A| 0.9090038314176244| rs6904596|     A|  0.09|   0.09|\n",
      "| rs4346787|     G|     A|0.49597701149425283| rs4346787|     A| 0.113|  0.113|\n",
      "| rs2572431|     C|     T|  0.467624521072797| rs2572431|     T|  0.59|   0.59|\n",
      "|rs35688236|     A|     C| 0.7046934865900382|rs35688236|     A|  0.69|   0.69|\n",
      "| rs2150462|     G|     C|0.28170498084291185| rs2150462|     C|  0.74|   0.74|\n",
      "|rs10774909|     C|     G| 0.7284482758620688|rs10774909|     C|  0.52|   0.52|\n",
      "| rs4938021|     C|     T|0.35153256704980834| rs4938021|     T|  0.66|   0.66|\n",
      "|rs10960103|     C|     G| 0.7977969348659002|rs10960103|     C|  0.77|   0.77|\n",
      "| rs7973260|     A|     G| 0.2072796934865901| rs7973260|     A|  0.19|   0.19|\n",
      "+----------+------+------+-------------------+----------+------+------+-------+\n",
      "\n"
     ]
    }
   ],
   "source": [
    "# may take a long time\n",
    "checktable.show()"
   ]
  },
  {
   "cell_type": "code",
   "execution_count": 45,
   "metadata": {
    "collapsed": false,
    "scrolled": false
   },
   "outputs": [],
   "source": [
    "bpMap={\"A\":\"T\", \"T\":\"A\", \"C\":\"G\", \"G\":\"C\"}"
   ]
  },
  {
   "cell_type": "code",
   "execution_count": 77,
   "metadata": {
    "collapsed": false,
    "scrolled": false
   },
   "outputs": [
    {
     "name": "stdout",
     "output_type": "stream",
     "text": [
      "CPU times: user 0 ns, sys: 0 ns, total: 0 ns\n",
      "Wall time: 6.2 µs\n"
     ]
    }
   ],
   "source": [
    "reload(PRS_VCF_utils)\n",
    "flagMap=checktable.rdd.map(lambda line: PRS_VCF_utils.checkAlignmentDF(line, bpMap)).collectAsMap()"
   ]
  },
  {
   "cell_type": "code",
   "execution_count": 82,
   "metadata": {
    "collapsed": false
   },
   "outputs": [
    {
     "name": "stdout",
     "output_type": "stream",
     "text": [
      "Calculating genotype dosage while taking into account strand alignment differences\n"
     ]
    }
   ],
   "source": [
    "# filter the raw genotype file\n",
    "reload(PRS_VCF_utils)\n",
    "if check_ref:\n",
    "    print(\"Calculating genotype dosage while taking into account strand alignment differences\")\n",
    "    genotypeMax=genotable.map(lambda line: PRS_VCF_utils.makeGenotypeCheckRef(line, checkMap=flagMap)).cache()\n",
    "    samplesize=len(genotypeMax.first()[1])\n",
    "else:\n",
    "    genotypeMax=genotable.map(lambda line: PRS_VCF_utils.makeGenotype(line, gwasOddsMapCA)).cache()\n",
    "    samplesize=len(genotypeMax.first()[1])"
   ]
  },
  {
   "cell_type": "code",
   "execution_count": 83,
   "metadata": {
    "collapsed": false
   },
   "outputs": [
    {
     "name": "stdout",
     "output_type": "stream",
     "text": [
      "finished calculating PRS at threshold of 0.5, used 381.9 seconds\n"
     ]
    }
   ],
   "source": [
    "# Calculate the PRS with the maximum threshold\n",
    "# calculate PRS from genotype\n",
    "reload(PRS_VCF_utils)\n",
    "def calcPRSFromGeno(genotypeRDD, oddsMap):\n",
    "    totalcount=genotypeRDD.count()\n",
    "    multiplied=genotypeRDD.map(lambda line:[call * oddsMap[line[0]] for call in line[1]])\n",
    "    filtered=multiplied.filter(lambda line: line is not None)\n",
    "    PRS=multiplied.reduce(lambda a,b: map(add, a, b))\n",
    "    normalizedPRS=[x/totalcount for x in PRS]\n",
    "    return (totalcount,PRS)\n",
    "start=time()\n",
    "prsMax=calcPRSFromGeno(genotypeMax, gwasOddsMapMaxCA)\n",
    "prsDict={}\n",
    "prsDict[maxThreshold]=prsMax\n",
    "print(\"finished calculating PRS at threshold of {}, used {:3.1f} seconds\".format(str(maxThreshold), time()-start))\n",
    "# Calculate PRS for the rest of the thresholds"
   ]
  },
  {
   "cell_type": "code",
   "execution_count": 34,
   "metadata": {
    "collapsed": false
   },
   "outputs": [
    {
     "name": "stdout",
     "output_type": "stream",
     "text": [
      "Taking the log of odds ratios\n",
      "filtering GWAS at threshold of 0.3 took 0.30 seconds\n",
      "finished calculating PRS at threshold of 0.3, used 1.5 seconds\n",
      "Taking the log of odds ratios\n",
      "filtering GWAS at threshold of 0.2 took 0.27 seconds\n",
      "finished calculating PRS at threshold of 0.2, used 1.3 seconds\n",
      "Taking the log of odds ratios\n",
      "filtering GWAS at threshold of 0.1 took 0.26 seconds\n",
      "finished calculating PRS at threshold of 0.1, used 1.0 seconds\n",
      "Taking the log of odds ratios\n",
      "filtering GWAS at threshold of 0.05 took 0.22 seconds\n",
      "finished calculating PRS at threshold of 0.05, used 0.9 seconds\n",
      "Taking the log of odds ratios\n",
      "filtering GWAS at threshold of 0.01 took 0.20 seconds\n",
      "finished calculating PRS at threshold of 0.01, used 0.6 seconds\n",
      "Taking the log of odds ratios\n",
      "filtering GWAS at threshold of 0.001 took 0.18 seconds\n",
      "finished calculating PRS at threshold of 0.001, used 0.7 seconds\n",
      "Taking the log of odds ratios\n",
      "filtering GWAS at threshold of 0.0001 took 0.18 seconds\n"
     ]
    }
   ],
   "source": [
    "def calcNoMax(genotypeRDD, gwasRDD, thresholdlist, prsMap):\n",
    "    if len(thresholdlist)>1:\n",
    "        thresholdListNoMax=[x for x in thresholds if x != maxThreshold]\n",
    "        thresholdNoMaxSorted=sorted(thresholdListNoMax, reverse=True)\n",
    "    else:\n",
    "        thresholdNoMaxSorted=thresholdlist\n",
    "    start=time()\n",
    "    for threshold in thresholdNoMaxSorted:\n",
    "        tic=time()\n",
    "        gwasFiltered=PRS_VCF_utils.filterGWASByP(GWASRdd=gwasRDD, pcolumn=gwas_p, idcolumn=gwas_id, oddscolumn=gwas_or, pHigh=threshold, logOdds=log_or)\n",
    "        print(\"filtering GWAS at threshold of {} took {:3.2f} seconds\".format( str(threshold), time()-tic) )\n",
    "        \n",
    "        checkpoint=time()\n",
    "\n",
    "        gwasFilteredBC=sc.broadcast(gwasFiltered)\n",
    "        filteredgenotype=genotypeRDD.filter(lambda line: line[0] in gwasFilteredBC.value)\n",
    "        if not filteredgenotype.isEmpty():\n",
    "            prsOther=calcPRSFromGeno(filteredgenotype, gwasFilteredBC.value)\n",
    "            prsMap[threshold]=prsOther\n",
    "            print(\"finished calculating PRS at threshold of {}, used {:3.1f} seconds\".format(str(threshold), time()-checkpoint))\n",
    "            \n",
    "    return prsMap\n",
    "\n",
    "prsDict=calcNoMax(genotypeMax,gwastableCA, thresholds, prsDict)"
   ]
  },
  {
   "cell_type": "code",
   "execution_count": 89,
   "metadata": {
    "collapsed": false,
    "scrolled": false
   },
   "outputs": [],
   "source": [
    "reload(PRS_VCF_utils)\n",
    "subjNames=PRS_VCF_utils.getSampleNames(sampleFilePath,sampleFileDelim,sampleFileID, skip=1)"
   ]
  },
  {
   "cell_type": "code",
   "execution_count": 93,
   "metadata": {
    "collapsed": false
   },
   "outputs": [
    {
     "data": {
      "text/plain": [
       "True"
      ]
     },
     "execution_count": 93,
     "metadata": {},
     "output_type": "execute_result"
    }
   ],
   "source": [
    "import os\n",
    "os.path.exists(outputPath)\n",
    "os.path.exists(\"/home/nyao111\")"
   ]
  },
  {
   "cell_type": "code",
   "execution_count": 94,
   "metadata": {
    "collapsed": false
   },
   "outputs": [
    {
     "name": "stdout",
     "output_type": "stream",
     "text": [
      "Successfully wrote scores to MAVAN_KIDS_EWBPRS_161129.csv\n"
     ]
    }
   ],
   "source": [
    "\n",
    "reload(PRS_VCF_utils)\n",
    "test=PRS_VCF_utils.writePRS(prsDict,  outputPath, samplenames=subjNames)"
   ]
  }
 ],
 "metadata": {
  "kernelspec": {
   "display_name": "CQ - Python 2",
   "language": "python",
   "name": "python2"
  },
  "language_info": {
   "codemirror_mode": {
    "name": "ipython",
    "version": 2
   },
   "file_extension": ".py",
   "mimetype": "text/x-python",
   "name": "python",
   "nbconvert_exporter": "python",
   "pygments_lexer": "ipython2",
   "version": "2.7.10"
  }
 },
 "nbformat": 4,
 "nbformat_minor": 0
}
