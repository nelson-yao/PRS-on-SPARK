{
 "cells": [
  {
   "cell_type": "markdown",
   "metadata": {},
   "source": [
    "### Calculating PRS using VCF files\n"
   ]
  },
  {
   "cell_type": "code",
   "execution_count": 60,
   "metadata": {
    "collapsed": false
   },
   "outputs": [
    {
     "data": {
      "text/html": [
       "<style>.container { width:100% !important; }</style>"
      ],
      "text/plain": [
       "<IPython.core.display.HTML object>"
      ]
     },
     "metadata": {},
     "output_type": "display_data"
    }
   ],
   "source": [
    "# making the notebok wider\n",
    "from IPython.core.display import display, HTML\n",
    "display(HTML(\"<style>.container { width:100% !important; }</style>\"))"
   ]
  },
  {
   "cell_type": "code",
   "execution_count": 32,
   "metadata": {
    "collapsed": false
   },
   "outputs": [],
   "source": [
    "from __future__ import division\n",
    "from pyspark import SparkConf, SparkContext\n",
    "from operator import add\n",
    "import re\n",
    "import glob, os\n",
    "import csv\n",
    "from collections import Counter\n",
    "import ntpath\n",
    "import functools\n",
    "#from functools import reduce\n",
    "from math import log\n",
    "import itertools\n",
    "import PRS_VCF_utils\n",
    "from time import time\n",
    "\n",
    "import pyspark \n",
    "from pyspark.sql import SparkSession\n",
    "from pyspark.sql import Row\n",
    "from pyspark.sql.functions import udf\n",
    "from pyspark.sql.types import *\n",
    "\n",
    "#**ATTN: python index starts at 0, so if you want to specify the second column, use 1\n",
    "#**ATTN: please remove the header of the GWAS file if there is any\n",
    "\n",
    "# define column number for contents in GWAS\n",
    "\n",
    "gwas_id=0    # column of SNP ID\n",
    "gwas_p=7     # column of P value\n",
    "gwas_or=5    # column of odds ratio\n",
    "gwas_a1=3    # column of a1 in the GWAS\n",
    "gwas_maf= 10 # column index of maf in the GWAS\n",
    "\n",
    "# defin column number for contents in genfile\n",
    "geno_id=2  # column number with rsID\n",
    "geno_start=9 # column number of the 1st genotype, in the raw vcf files, after separated by the delimiter of choice\n",
    "geno_a1 = 3  # column number that contains the reference allele\n",
    "\n",
    "# List of thresholds:\n",
    "thresholds=[0.5, 0.3, 0.2, 0.1, 0.05, 0.01, 0.001, 0.0001]\n",
    "\n",
    "# file delimiters:\n",
    "GWAS_delim=\"\\t\"\n",
    "GENO_delim=\"\\t\"\n",
    "\n",
    "# file names:\n",
    "home=\"/home/nyao111/MAVAN_imputed_161121/MOMS_info03_vcf/\"  #define homefolder path\n",
    "\n",
    "gwasFiles=\"/home/nyao111/PRS_imputed/pgc.mdd.clump.withAF.txt\"       # Name of GWAS file \n",
    "\n",
    "\n",
    "def getFileFromPattern(*pattern): # Multiple patterns need to be put into list format\n",
    "    files=[]\n",
    "    for pathpattern in pattern:\n",
    "        files=glob.glob(files)\n",
    "\n",
    "genoFileNamePattern=home+\"21_info03.vcf\"   \n",
    "\n",
    "genoFileNames=glob.glob(genoFileNamePattern)\n",
    "# Alternatively, directly specify filename:\n",
    "#genoFileName=[home+\"fcgene_out_chr21comb.bierut1M_plus_filtered_chr21_c1_EA_COGA.gen\",\n",
    "              #home+\"fcgene_out_chr21comb.bierut1M_plus_filtered_chr21_c1_EA_COGEND.gen\",\n",
    "              #home+\"fcgene_out_chr22comb.bierut1M_plus_filtered_chr22_c1_EA_COGA.gen\",\n",
    "              #home+\"fcgene_out_chr22comb.bierut1M_plus_filtered_chr22_c1_EA_COGEND.gen\"]\n",
    "\n",
    "genoExtension=\".vcf\"\n",
    "\n",
    "\n",
    "# programme parameters\n",
    "log_or=True  # sepcify whether you want to log your odds ratios\n",
    "check_ref=True # if you know that there are mismatch between the top strand in the genotypes and that of the GWAS, set True. Not checking the reference allele will improve the speed\n",
    "\n",
    "# sample file path and name\n",
    "sampleFilePath=home+\"MAVAN_35_impute161121_MOM_orderedSamples.csv\" # include the full/relative path and name of the sample file\n",
    "sampleFileDelim=\",\"  # sample File Delimiter\n",
    "sampleFileID=0   # which column in the sample file has the ID\n",
    "sample_skip=1  # how many lines to skip so that the sample names can be matched to the genotypes 1-to-1, taking into account the header of the sample file \n",
    "##output file information\n",
    "\n",
    "outputPath=home+\"MAVAN_MOMS_mddPRS_161125.csv\"\n",
    "\n"
   ]
  },
  {
   "cell_type": "code",
   "execution_count": 134,
   "metadata": {
    "collapsed": true
   },
   "outputs": [],
   "source": [
    "sc.stop()\n",
    "spark.stop()"
   ]
  },
  {
   "cell_type": "code",
   "execution_count": 2,
   "metadata": {
    "collapsed": false
   },
   "outputs": [
    {
     "name": "stdout",
     "output_type": "stream",
     "text": [
      "<pyspark.context.SparkContext object at 0x2abea40396d0>\n",
      "<pyspark.sql.session.SparkSession object at 0x2abe98cbd290>\n"
     ]
    }
   ],
   "source": [
    "\n",
    "\n",
    "# We can give a name to our app (to find it in Spark WebUI) and configure execution mode\n",
    "\n",
    "APP_NAME=\"MAVANvcfPRS\"\n",
    "\n",
    "conf = pyspark.SparkConf().setAppName(APP_NAME)#.set(\"spark.serializer\", \"org.apache.spark.serializer.KryoSerializer\")\n",
    "sc = pyspark.SparkContext(conf=conf)\n",
    "print(sc)\n",
    "sc.setLogLevel(\"WARN\")\n",
    "log4jLogger = sc._jvm.org.apache.log4j\n",
    "LOGGER = log4jLogger.LogManager.getLogger(__name__)\n",
    "LOGGER.info(\"Start Reading Files\")\n",
    "#def main(gwasFile, genoFileList, thresholdList):\n",
    "\n",
    "spark=SparkSession.builder.appName(APP_NAME).getOrCreate()\n",
    "print spark\n"
   ]
  },
  {
   "cell_type": "code",
   "execution_count": 3,
   "metadata": {
    "collapsed": false
   },
   "outputs": [
    {
     "name": "stdout",
     "output_type": "stream",
     "text": [
      "========================================\n",
      "Using these genoytpe files: \n",
      "/home/nyao111/MAVAN_imputed_161121/MOMS_info03_vcf/21_info03.vcf\n"
     ]
    }
   ],
   "source": [
    "print(\"=\"*40)\n",
    "print(\"Using these genoytpe files: \")\n",
    "\n",
    "counter = 0\n",
    "for filename in genoFileNames:\n",
    "    if counter<20:\n",
    "        counter+=1\n",
    "        print(filename)\n",
    "    else:\n",
    "        print(\"and more....\")\n",
    "        break"
   ]
  },
  {
   "cell_type": "markdown",
   "metadata": {},
   "source": [
    "### 1. Load files "
   ]
  },
  {
   "cell_type": "code",
   "execution_count": 4,
   "metadata": {
    "collapsed": false
   },
   "outputs": [
    {
     "name": "stdout",
     "output_type": "stream",
     "text": [
      "Using the GWAS file: pgc.mdd.clump.withAF.txt\n"
     ]
    }
   ],
   "source": [
    "genodata=sc.textFile(genoFileNamePattern)\n",
    "gwasfile=sc.textFile(gwasFiles)\n",
    "print(\"Using the GWAS file: {}\".format(ntpath.basename(gwasFiles)))\n",
    "gwastable=gwasfile.filter(lambda line: \"snpid\" not in line).map(lambda line: line.split(GWAS_delim))\n",
    "gwastableCA=gwastable.cache()\n"
   ]
  },
  {
   "cell_type": "markdown",
   "metadata": {},
   "source": [
    "### 1.1 Filter GWAS and prepare odds ratio\n"
   ]
  },
  {
   "cell_type": "code",
   "execution_count": 5,
   "metadata": {
    "collapsed": false
   },
   "outputs": [
    {
     "name": "stdout",
     "output_type": "stream",
     "text": [
      "Taking the log of odds ratios\n"
     ]
    }
   ],
   "source": [
    "maxThreshold=max(thresholds)\n",
    "gwasOddsMapMax=PRS_VCF_utils.filterGWASByP(GWASRdd=gwastableCA, pcolumn=gwas_p, idcolumn=gwas_id, oddscolumn=gwas_or, pHigh=maxThreshold, logOdds=log_or)\n",
    "gwasOddsMapMaxCA=sc.broadcast(gwasOddsMapMax).value"
   ]
  },
  {
   "cell_type": "markdown",
   "metadata": {},
   "source": [
    "### 2. Initial processing "
   ]
  },
  {
   "cell_type": "code",
   "execution_count": 6,
   "metadata": {
    "collapsed": false,
    "scrolled": false
   },
   "outputs": [],
   "source": [
    "# at this step, the genotypes are already filtered to keep only the ones in 'gwasOddsMap'\n",
    "genointermediate=genodata.filter(lambda line: (\"#\" not in line))\\\n",
    ".map(lambda line: line.split(GENO_delim))\\\n",
    ".filter(lambda line: line[geno_id] in gwasOddsMapMaxCA)\\\n",
    ".map(lambda line: line[0:5]+[chunk.split(\":\")[3] for chunk in line[geno_start::]])\\\n",
    ".map(lambda line: line[0:5]+[triplet.split(\",\") for triplet in line[5::]])\n",
    "\n",
    "genoAlleles=genointermediate.map(lambda line: (line[geno_id], (line[geno_a1], line[geno_a1+1])))\n",
    "genotable=genointermediate.map(lambda line: (line[geno_id], list(itertools.chain.from_iterable(line[5::]))))\\\n",
    ".mapValues(lambda geno: [float(x) for x in geno])\n"
   ]
  },
  {
   "cell_type": "markdown",
   "metadata": {},
   "source": [
    "### 2.1 Calculate and store MAF"
   ]
  },
  {
   "cell_type": "code",
   "execution_count": 7,
   "metadata": {
    "collapsed": false,
    "scrolled": false
   },
   "outputs": [],
   "source": [
    "reload(PRS_VCF_utils)\n",
    "genoa1f=genointermediate.map(lambda line: (line[geno_id], (line[geno_a1], line[geno_a1+1]), [float(x) for x in list(itertools.chain.from_iterable(line[5::]))]))\\\n",
    ".map(lambda line: (line[0], line[1][0], line[1][1], PRS_VCF_utils.getMaf(line[2]))).toDF([\"Snpid_geno\", \"GenoA1\", \"GenoA2\", \"GenoA1f\"])\n",
    "\n",
    "#genoa1f.map(lambda line:\"\\t\".join([line[0], \"\\t\".join(line[1]), str(line[2])])).saveAsTextFile(\"../MOMS_info03_maf\")\n"
   ]
  },
  {
   "cell_type": "markdown",
   "metadata": {},
   "source": [
    "### 3. Determine whether each SNP needs to be flipped"
   ]
  },
  {
   "cell_type": "code",
   "execution_count": 8,
   "metadata": {
    "collapsed": false
   },
   "outputs": [],
   "source": [
    "gwasA1f=gwastableCA.map(lambda line:(line[gwas_id], line[gwas_a1], line[gwas_a1+1], line[gwas_maf])).toDF([\"Snpid_gwas\", \"GwasA1\", \"GwasA2\", \"GwasMaf\"])\n"
   ]
  },
  {
   "cell_type": "code",
   "execution_count": 9,
   "metadata": {
    "collapsed": false
   },
   "outputs": [],
   "source": [
    "checktable=genoa1f.join(gwasA1f, genoa1f[\"Snpid_geno\"]==gwasA1f[\"Snpid_gwas\"], \"inner\")"
   ]
  },
  {
   "cell_type": "code",
   "execution_count": 11,
   "metadata": {
    "collapsed": false
   },
   "outputs": [
    {
     "name": "stdout",
     "output_type": "stream",
     "text": [
      "+----------+------+------+-------------------+----------+------+------+---------+\n",
      "|Snpid_geno|GenoA1|GenoA2|            GenoA1f|Snpid_gwas|GwasA1|GwasA2|  GwasMaf|\n",
      "+----------+------+------+-------------------+----------+------+------+---------+\n",
      "| rs1734920|     T|     G|0.39320754716981116| rs1734920|     T|     G| 0.454128|\n",
      "| rs2831805|     C|     T| 0.8340566037735849| rs2831805|     T|     C|  0.16055|\n",
      "| rs2837290|     C|     T| 0.8647169811320753| rs2837290|     T|     C| 0.133028|\n",
      "| rs2837734|     G|     A| 0.9345283018867923| rs2837734|     A|     G|0.0688073|\n",
      "| rs2839270|     A|     C| 0.6241509433962265| rs2839270|     A|     C| 0.643519|\n",
      "| rs8134347|     G|     A| 0.9363207547169813| rs8134347|     A|     G|0.0458716|\n",
      "| rs9977792|     G|     A| 0.8863207547169811| rs9977792|     A|     G| 0.140187|\n",
      "|rs17230638|     C|     T|  0.873679245283019|rs17230638|     T|     C| 0.116822|\n",
      "| rs2222994|     G|     T|0.28056603773584904| rs2222994|     T|     G| 0.729358|\n",
      "| rs9982929|     C|     G| 0.8523584905660376| rs9982929|     C|     G| 0.880734|\n",
      "| rs9984156|     G|     T| 0.5761320754716984| rs9984156|     T|     G| 0.393519|\n",
      "| rs2142098|     A|     T| 0.9809433962264152| rs2142098|     A|     T|0.9770642|\n",
      "| rs2822766|     A|     G| 0.7362264150943398| rs2822766|     A|     G| 0.784404|\n",
      "| rs2827529|     C|     T| 0.6464150943396226| rs2827529|     T|     C|  0.33945|\n",
      "| rs2833869|     C|     T| 0.9254716981132075| rs2833869|     T|     C|0.0642202|\n",
      "| rs2836805|     C|     T| 0.7049999999999998| rs2836805|     T|     C| 0.316514|\n",
      "| rs2837367|     T|     C| 0.2522641509433962| rs2837367|     T|     C| 0.270642|\n",
      "| rs4816303|     T|     C| 0.8951886792452826| rs4816303|     T|     C|  0.87037|\n",
      "| rs8129075|     G|     T|  0.754811320754717| rs8129075|     T|     G| 0.201835|\n",
      "| rs9305628|     G|     A| 0.2623584905660378| rs9305628|     A|     G| 0.743119|\n",
      "+----------+------+------+-------------------+----------+------+------+---------+\n",
      "only showing top 20 rows\n",
      "\n"
     ]
    }
   ],
   "source": [
    "checktable.show()"
   ]
  },
  {
   "cell_type": "code",
   "execution_count": 13,
   "metadata": {
    "collapsed": false
   },
   "outputs": [],
   "source": [
    "def sumscore(maf):\n",
    "    return sum(maf)\n",
    "\n",
    "udfSumScore=udf(sumscore, FloatType())\n",
    "score=checktable.withColumn(\"scoresum\", udfSumScore(checktable[\"GenoA1f\"]))"
   ]
  },
  {
   "cell_type": "code",
   "execution_count": 24,
   "metadata": {
    "collapsed": false,
    "scrolled": false
   },
   "outputs": [],
   "source": [
    "bpMap={\"A\":\"T\", \"T\":\"A\", \"C\":\"G\", \"G\":\"C\"}"
   ]
  },
  {
   "cell_type": "code",
   "execution_count": 28,
   "metadata": {
    "collapsed": false,
    "scrolled": false
   },
   "outputs": [
    {
     "name": "stdout",
     "output_type": "stream",
     "text": [
      "CPU times: user 0 ns, sys: 0 ns, total: 0 ns\n",
      "Wall time: 4.05 µs\n"
     ]
    }
   ],
   "source": [
    "%time\n",
    "reload(PRS_VCF_utils)\n",
    "flagMap=checktable.rdd.map(lambda line: PRS_VCF_utils.checkAlignmentDF(line, bpMap)).collectAsMap()"
   ]
  },
  {
   "cell_type": "code",
   "execution_count": 30,
   "metadata": {
    "collapsed": false
   },
   "outputs": [
    {
     "name": "stdout",
     "output_type": "stream",
     "text": [
      "Calculating genotype dosage while taking into account strand alignment differences\n"
     ]
    }
   ],
   "source": [
    "# filter the raw genotype file\n",
    "reload(PRS_VCF_utils)\n",
    "if check_ref:\n",
    "    print(\"Calculating genotype dosage while taking into account strand alignment differences\")\n",
    "    genotypeMax=genotable.map(lambda line: PRS_VCF_utils.makeGenotypeCheckRef(line, checkMap=flagMap)).cache()\n",
    "    samplesize=len(genotypeMax.first()[1])\n",
    "else:\n",
    "    genotypeMax=genotable.map(lambda line: PRS_VCF_utils.makeGenotype(line, gwasOddsMapCA)).cache()\n",
    "    samplesize=len(genotypeMax.first()[1])"
   ]
  },
  {
   "cell_type": "code",
   "execution_count": 33,
   "metadata": {
    "collapsed": false
   },
   "outputs": [
    {
     "name": "stdout",
     "output_type": "stream",
     "text": [
      "finished calculating PRS at threshold of 0.5, used 1.5 seconds\n"
     ]
    }
   ],
   "source": [
    "# Calculate the PRS with the maximum threshold\n",
    "# calculate PRS from genotype\n",
    "reload(PRS_VCF_utils)\n",
    "def calcPRSFromGeno(genotypeRDD, oddsMap):\n",
    "    totalcount=genotypeRDD.count()\n",
    "    multiplied=genotypeRDD.map(lambda line:[call * oddsMap[line[0]] for call in line[1]])\n",
    "    filtered=multiplied.filter(lambda line: line is not None)\n",
    "    PRS=multiplied.reduce(lambda a,b: map(add, a, b))\n",
    "    normalizedPRS=[x/totalcount for x in PRS]\n",
    "    return (totalcount,PRS)\n",
    "start=time()\n",
    "prsMax=calcPRSFromGeno(genotypeMax, gwasOddsMapMaxCA)\n",
    "prsDict={}\n",
    "prsDict[maxThreshold]=prsMax\n",
    "print(\"finished calculating PRS at threshold of {}, used {:3.1f} seconds\".format(str(maxThreshold), time()-start))\n",
    "# Calculate PRS for the rest of the thresholds"
   ]
  },
  {
   "cell_type": "code",
   "execution_count": 34,
   "metadata": {
    "collapsed": false
   },
   "outputs": [
    {
     "name": "stdout",
     "output_type": "stream",
     "text": [
      "Taking the log of odds ratios\n",
      "filtering GWAS at threshold of 0.3 took 0.30 seconds\n",
      "finished calculating PRS at threshold of 0.3, used 1.5 seconds\n",
      "Taking the log of odds ratios\n",
      "filtering GWAS at threshold of 0.2 took 0.27 seconds\n",
      "finished calculating PRS at threshold of 0.2, used 1.3 seconds\n",
      "Taking the log of odds ratios\n",
      "filtering GWAS at threshold of 0.1 took 0.26 seconds\n",
      "finished calculating PRS at threshold of 0.1, used 1.0 seconds\n",
      "Taking the log of odds ratios\n",
      "filtering GWAS at threshold of 0.05 took 0.22 seconds\n",
      "finished calculating PRS at threshold of 0.05, used 0.9 seconds\n",
      "Taking the log of odds ratios\n",
      "filtering GWAS at threshold of 0.01 took 0.20 seconds\n",
      "finished calculating PRS at threshold of 0.01, used 0.6 seconds\n",
      "Taking the log of odds ratios\n",
      "filtering GWAS at threshold of 0.001 took 0.18 seconds\n",
      "finished calculating PRS at threshold of 0.001, used 0.7 seconds\n",
      "Taking the log of odds ratios\n",
      "filtering GWAS at threshold of 0.0001 took 0.18 seconds\n"
     ]
    }
   ],
   "source": [
    "def calcNoMax(genotypeRDD, gwasRDD, thresholdlist, prsMap):\n",
    "    \n",
    "    if len(thresholdlist)>1:\n",
    "        thresholdListNoMax=[x for x in thresholds if x != maxThreshold]\n",
    "        thresholdNoMaxSorted=sorted(thresholdListNoMax, reverse=True)\n",
    "    else:\n",
    "        thresholdNoMaxSorted=thresholdlist\n",
    "    start=time()\n",
    "    for threshold in thresholdNoMaxSorted:\n",
    "        tic=time()\n",
    "        gwasFiltered=PRS_VCF_utils.filterGWASByP(GWASRdd=gwasRDD, pcolumn=gwas_p, idcolumn=gwas_id, oddscolumn=gwas_or, pHigh=threshold, logOdds=log_or)\n",
    "        print(\"filtering GWAS at threshold of {} took {:3.2f} seconds\".format( str(threshold), time()-tic) )\n",
    "        \n",
    "        checkpoint=time()\n",
    "\n",
    "        gwasFilteredBC=sc.broadcast(gwasFiltered)\n",
    "        filteredgenotype=genotypeRDD.filter(lambda line: line[0] in gwasFilteredBC.value)\n",
    "        if not filteredgenotype.isEmpty():\n",
    "            prsOther=calcPRSFromGeno(filteredgenotype, gwasFilteredBC.value)\n",
    "            prsMap[threshold]=prsOther\n",
    "            print(\"finished calculating PRS at threshold of {}, used {:3.1f} seconds\".format(str(threshold), time()-checkpoint))\n",
    "            \n",
    "    return prsMap\n",
    "\n",
    "finalresult=calcNoMax(genotypeMax,gwastableCA, thresholds, prsDict)"
   ]
  },
  {
   "cell_type": "code",
   "execution_count": 35,
   "metadata": {
    "collapsed": false,
    "scrolled": false
   },
   "outputs": [],
   "source": [
    "reload(PRS_VCF_utils)\n",
    "subjNames=PRS_VCF_utils.getSampleNames(sampleFilePath,sampleFileDelim,sampleFileID, skip=1)\n"
   ]
  },
  {
   "cell_type": "code",
   "execution_count": 66,
   "metadata": {
    "collapsed": false
   },
   "outputs": [
    {
     "name": "stdout",
     "output_type": "stream",
     "text": [
      "Successfully wrote scores to MAVAN_MOMS_mddPRS_161125.csv\n"
     ]
    }
   ],
   "source": [
    "reload(PRS_VCF_utils)\n",
    "test=PRS_VCF_utils.writePRS(finalresult,  outputPath, samplenames=subjNames)"
   ]
  }
 ],
 "metadata": {
  "kernelspec": {
   "display_name": "CQ - Python 2",
   "language": "python",
   "name": "python2"
  },
  "language_info": {
   "codemirror_mode": {
    "name": "ipython",
    "version": 2
   },
   "file_extension": ".py",
   "mimetype": "text/x-python",
   "name": "python",
   "nbconvert_exporter": "python",
   "pygments_lexer": "ipython2",
   "version": "2.7.10"
  }
 },
 "nbformat": 4,
 "nbformat_minor": 0
}
